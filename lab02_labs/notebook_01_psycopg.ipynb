{
 "cells": [
  {
   "cell_type": "markdown",
   "id": "c0ccf013-b6b8-4027-a0fe-d90c619c5782",
   "metadata": {
    "collapsed": true,
    "jupyter": {
     "outputs_hidden": true
    }
   },
   "source": [
    "# Psycopg\n"
   ]
  },
  {
   "cell_type": "markdown",
   "id": "59fab212-642d-46a9-9b1b-6502c4183694",
   "metadata": {},
   "source": [
    "Let's import `psycopg` and make a simple query. This requires:\n",
    "\n",
    "- preparing connection string (see [Postgres docs](https://www.postgresql.org/docs/current/libpq-connect.html#LIBPQ-CONNSTRING))\n",
    "- making a connection\n",
    "- creating a cursor\n",
    "- running a query on the cursor\n",
    "- parsing results\n",
    "\n",
    "See the code below and comments. As our query, we will read:\n",
    "\n",
    "- total number of trains stopping in Amsterdam\n",
    "- all trains that were late in Amsterdam\n"
   ]
  },
  {
   "cell_type": "code",
   "execution_count": 2,
   "id": "ea898094-1ff8-45be-b564-46ad3b9d07d3",
   "metadata": {
    "scrolled": true
   },
   "outputs": [
    {
     "name": "stdout",
     "output_type": "stream",
     "text": [
      "host=localhost user=postgres password=postgres dbname=postgres\n"
     ]
    }
   ],
   "source": [
    "import psycopg\n",
    "\n",
    "# build the connection string\n",
    "host = \"localhost\"\n",
    "username = \"postgres\"\n",
    "password = \"postgres\"  # NEVER do this in real code, read from secure secrets file\n",
    "db_name = \"postgres\"\n",
    "\n",
    "db_conn_string = f\"host={host} user={username} password={password} dbname={db_name}\"\n",
    "print(db_conn_string)"
   ]
  },
  {
   "cell_type": "code",
   "execution_count": 5,
   "id": "4a0fb2dd-e745-4cb3-9206-9d24afec820a",
   "metadata": {},
   "outputs": [
    {
     "name": "stdout",
     "output_type": "stream",
     "text": [
      "Total trains: (404915,)\n",
      "Late trains:\n",
      "('12690865', datetime.date(2024, 1, 1), 'Intercity', 'NS', '1410', False, False, 0, '114307598', 'ASD', 'Amsterdam Centraal', datetime.datetime(2024, 1, 1, 3, 18), 1, False, datetime.datetime(2024, 1, 1, 3, 20), 2, False, False, '4', '4')\n",
      "('12690867', datetime.date(2024, 1, 1), 'Intercity', 'NS', '1409', False, False, 0, '114307612', 'ASD', 'Amsterdam Centraal', datetime.datetime(2024, 1, 1, 2, 44), 4, False, datetime.datetime(2024, 1, 1, 2, 46), 8, False, True, '5', '7')\n",
      "('12690870', datetime.date(2024, 1, 1), 'Intercity', 'NS', '1414', False, False, 0, '114307633', 'ASD', 'Amsterdam Centraal', datetime.datetime(2024, 1, 1, 4, 17), 3, False, datetime.datetime(2024, 1, 1, 4, 19), 4, False, False, '4', '4')\n"
     ]
    }
   ],
   "source": [
    "query_total_trains = \"\"\"\n",
    "SELECT COUNT(*)\n",
    "FROM services\n",
    "WHERE \"Stop:Station code\" = 'ASD'\n",
    "\"\"\"\n",
    "\n",
    "query_late_departure_trains = \"\"\"\n",
    "SELECT *\n",
    "FROM services\n",
    "WHERE \"Stop:Station code\" = 'ASD' AND \"Stop:Departure delay\" > 0\n",
    "\"\"\"\n",
    "\n",
    "# connect to the database (context manager will automatically close connection)\n",
    "with psycopg.connect(db_conn_string) as conn:\n",
    "    # create a cursor to execute commands\n",
    "    with conn.cursor() as cur:\n",
    "        # send query and fetch result\n",
    "        cur.execute(query_total_trains)\n",
    "        total_trains = cur.fetchone()\n",
    "\n",
    "        # send query and fetch results\n",
    "        cur.execute(query_late_departure_trains)\n",
    "        late_trains = cur.fetchall()\n",
    "\n",
    "print(\"Total trains:\", total_trains)\n",
    "\n",
    "print(\"Late trains:\")\n",
    "for record in late_trains[:3]:\n",
    "    print(record)"
   ]
  },
  {
   "cell_type": "markdown",
   "id": "500da471-53bf-43a2-998e-07d8f2a2d1af",
   "metadata": {},
   "source": [
    "**Connection** manages database session and network connection. It should always be used as a context manager, to close it after usage, since keeping \"dangling\" open connections wastes system resources. Opening and closing connections has some cost, so for batches of tasks it's good to keep the connection open.\n",
    "\n",
    "**Connection string** defines the Postgres connection. We can either build a string, or pass keyword arguments to `.connect()`.\n",
    "\n",
    "**Cursor** executes commands to the database. It will always use a transaction in psycopg. If you don't explicitly commit by calling `conn.commit()` inside the cursor block, it will roll back all changes. However, here we only read data, so this doesn't matter.\n",
    "\n",
    "**Results** are by default returned as a tuple for `.fetchone()` (even a single element), or list of tuples for `.fetchall()`. Types are automatically parsed, e.g. dates are `datetime.date` objects, with exact rules [in the documentation](https://www.psycopg.org/psycopg3/docs/basic/adapt.html).\n",
    "\n",
    "Tuples are not always convenient, and we have two main options:\n",
    "\n",
    "- use [row factory](https://www.psycopg.org/psycopg3/docs/advanced/rows.html#row-factories) to return dictionaries, named tuples, or a custom dataclass (you need to write it first)\n",
    "- use an ORM like SQLAlchemy or peewee\n",
    "\n",
    "Which one makes the most sense depends on a use case. If you use a custom dataclass, you are really close to using an ORM, so the line is often blurry.\n",
    "\n",
    "**Efficiency** typically has tradeoffs for large data. Processing data in sizes is typically necessary, as we can't easily load all data into memory like here. Smaller batches are sometimes more efficient within the database, particularly when we have proper indexes. For example, you may want to query for a single month at a time. However, too small batches will waste resources on network requests.\n",
    "\n",
    "**Column names** are often useful for automation, and we can get them without wasting a lot of memory for dictionaries. In fact, creating Pandas DataFrames from default tuples is actually faster and easier. We can get the list of column names from the cursor `description` attribute:\n"
   ]
  },
  {
   "cell_type": "code",
   "execution_count": 6,
   "id": "9a1eedc1-6868-4342-81e5-2dbb39b34b52",
   "metadata": {},
   "outputs": [
    {
     "name": "stdout",
     "output_type": "stream",
     "text": [
      "['Service:RDT-ID', 'Service:Date', 'Service:Type', 'Service:Company', 'Service:Train number', 'Service:Completely cancelled', 'Service:Partly cancelled', 'Service:Maximum delay', 'Stop:RDT-ID', 'Stop:Station code', 'Stop:Station name', 'Stop:Arrival time', 'Stop:Arrival delay', 'Stop:Arrival cancelled', 'Stop:Departure time', 'Stop:Departure delay', 'Stop:Departure cancelled', 'Stop:Platform change', 'Stop:Planned platform', 'Stop:Actual platform']\n"
     ]
    }
   ],
   "source": [
    "with psycopg.connect(db_conn_string) as conn:\n",
    "    with conn.cursor() as cur:\n",
    "        # LIMIT 0 for efficiency - we don't want rows, just column names\n",
    "        cur.execute(\"SELECT * FROM services LIMIT 0\")\n",
    "        colnames = [desc[0] for desc in cur.description]\n",
    "        print(colnames)"
   ]
  },
  {
   "cell_type": "markdown",
   "id": "f1ab781a-809f-4c33-8d9d-2b7aa0a4395f",
   "metadata": {},
   "source": [
    "**Exercise**\n",
    "\n",
    "1. Write a query to get all trains that both arrived and departured late.\n",
    "\n",
    "2. Use a row factory to return dictionaries.\n",
    "\n",
    "```python\n",
    "    (from psycopg.rows import dict_row)\n",
    "```\n",
    "\n",
    "3. Save the result to file `data/late_train.jsonl` in JSON Lines format. `json` module will be useful.\n",
    "\n",
    "Since JSON does not have a default date or datetime format, we need to provide an explicit encoder for that. Pass this class to `json.dump()` as `cls` argument.\n"
   ]
  },
  {
   "cell_type": "code",
   "execution_count": 7,
   "id": "ad5c9e66-846d-4a34-b2ab-25c388232448",
   "metadata": {},
   "outputs": [],
   "source": [
    "import datetime\n",
    "import json\n",
    "\n",
    "\n",
    "class DateEncoder(json.JSONEncoder):\n",
    "    def default(self, obj):\n",
    "        if isinstance(obj, (datetime.date, datetime.datetime)):\n",
    "            return obj.isoformat()\n",
    "        return json.JSONEncoder.default(self, obj)"
   ]
  },
  {
   "cell_type": "markdown",
   "id": "6b103d1a",
   "metadata": {},
   "source": [
    "Exercise 1\n"
   ]
  },
  {
   "cell_type": "code",
   "execution_count": 13,
   "id": "ea22cee1-ba3b-409c-8cd1-41e701441a5b",
   "metadata": {},
   "outputs": [
    {
     "name": "stdout",
     "output_type": "stream",
     "text": [
      "('12690865', datetime.date(2024, 1, 1), 'Intercity', 'NS', '1410', False, False, 0, '114307598', 'ASD', 'Amsterdam Centraal', datetime.datetime(2024, 1, 1, 3, 18), 1, False, datetime.datetime(2024, 1, 1, 3, 20), 2, False, False, '4', '4')\n",
      "('12690865', datetime.date(2024, 1, 1), 'Intercity', 'NS', '1410', False, False, 0, '114307599', 'ASB', 'Amsterdam Bijlmer ArenA', datetime.datetime(2024, 1, 1, 3, 31), 2, False, datetime.datetime(2024, 1, 1, 3, 31), 2, False, False, '8', '8')\n",
      "('12690866', datetime.date(2024, 1, 1), 'Nightjet', 'NS Int', '420', False, False, 0, '114307605', 'DUSSEL', 'Düsseldorf Hbf', datetime.datetime(2024, 1, 1, 7, 23), 1, False, datetime.datetime(2024, 1, 1, 7, 25), 6, False, False, None, None)\n",
      "('12690866', datetime.date(2024, 1, 1), 'Nightjet', 'NS Int', '420', False, False, 0, '114307606', 'DUISB', 'Duisburg Hbf', datetime.datetime(2024, 1, 1, 7, 39), 4, False, datetime.datetime(2024, 1, 1, 7, 41), 4, False, False, None, None)\n",
      "('12690867', datetime.date(2024, 1, 1), 'Intercity', 'NS', '1409', False, False, 0, '114307611', 'ASB', 'Amsterdam Bijlmer ArenA', datetime.datetime(2024, 1, 1, 2, 33), 3, False, datetime.datetime(2024, 1, 1, 2, 33), 3, False, False, '6', '6')\n",
      "('12690867', datetime.date(2024, 1, 1), 'Intercity', 'NS', '1409', False, False, 0, '114307612', 'ASD', 'Amsterdam Centraal', datetime.datetime(2024, 1, 1, 2, 44), 4, False, datetime.datetime(2024, 1, 1, 2, 46), 8, False, True, '5', '7')\n",
      "('12690867', datetime.date(2024, 1, 1), 'Intercity', 'NS', '1409', False, False, 0, '114307613', 'ASS', 'Amsterdam Sloterdijk', datetime.datetime(2024, 1, 1, 2, 53), 10, False, datetime.datetime(2024, 1, 1, 2, 53), 10, False, False, '11', '11')\n",
      "('12690867', datetime.date(2024, 1, 1), 'Intercity', 'NS', '1409', False, False, 0, '114307614', 'SHL', 'Schiphol Airport', datetime.datetime(2024, 1, 1, 3, 1), 10, False, datetime.datetime(2024, 1, 1, 3, 5), 7, False, True, '5/6', '6')\n",
      "('12690867', datetime.date(2024, 1, 1), 'Intercity', 'NS', '1409', False, False, 0, '114307615', 'LEDN', 'Leiden Centraal', datetime.datetime(2024, 1, 1, 3, 21), 6, False, datetime.datetime(2024, 1, 1, 3, 23), 5, False, False, '8b', '8b')\n",
      "('12690867', datetime.date(2024, 1, 1), 'Intercity', 'NS', '1409', False, False, 0, '114307616', 'GV', 'Den Haag HS', datetime.datetime(2024, 1, 1, 3, 37), 1, False, datetime.datetime(2024, 1, 1, 3, 38), 2, False, False, '4', '4')\n",
      "('12690867', datetime.date(2024, 1, 1), 'Intercity', 'NS', '1409', False, False, 0, '114307617', 'DT', 'Delft', datetime.datetime(2024, 1, 1, 3, 45), 2, False, datetime.datetime(2024, 1, 1, 3, 45), 2, False, False, '2', '2')\n",
      "('12690868', datetime.date(2024, 1, 1), 'Intercity', 'NS', '22205', False, False, 0, '114307620', 'ASS', 'Amsterdam Sloterdijk', datetime.datetime(2024, 1, 1, 2, 44), 2, False, datetime.datetime(2024, 1, 1, 2, 44), 2, False, False, '8', '8')\n",
      "('12690870', datetime.date(2024, 1, 1), 'Intercity', 'NS', '1414', False, False, 0, '114307632', 'ASS', 'Amsterdam Sloterdijk', datetime.datetime(2024, 1, 1, 4, 12), 1, False, datetime.datetime(2024, 1, 1, 4, 12), 1, False, False, '12', '12')\n",
      "('12690870', datetime.date(2024, 1, 1), 'Intercity', 'NS', '1414', False, False, 0, '114307633', 'ASD', 'Amsterdam Centraal', datetime.datetime(2024, 1, 1, 4, 17), 3, False, datetime.datetime(2024, 1, 1, 4, 19), 4, False, False, '4', '4')\n",
      "('12690870', datetime.date(2024, 1, 1), 'Intercity', 'NS', '1414', False, False, 0, '114307634', 'ASB', 'Amsterdam Bijlmer ArenA', datetime.datetime(2024, 1, 1, 4, 30), 3, False, datetime.datetime(2024, 1, 1, 4, 30), 3, False, False, '8', '8')\n",
      "('12690871', datetime.date(2024, 1, 1), 'Intercity', 'NS', '22206', False, False, 0, '114307637', 'ASD', 'Amsterdam Centraal', datetime.datetime(2024, 1, 1, 3, 21), 2, False, datetime.datetime(2024, 1, 1, 3, 23), 3, False, True, '5', '7')\n",
      "('12690871', datetime.date(2024, 1, 1), 'Intercity', 'NS', '22206', False, False, 0, '114307638', 'ASS', 'Amsterdam Sloterdijk', datetime.datetime(2024, 1, 1, 3, 29), 3, False, datetime.datetime(2024, 1, 1, 3, 29), 3, False, False, '7', '7')\n",
      "('12690872', datetime.date(2024, 1, 1), 'Intercity', 'NS', '1413', False, False, 0, '114307642', 'ASD', 'Amsterdam Centraal', datetime.datetime(2024, 1, 1, 3, 40), 3, False, datetime.datetime(2024, 1, 1, 3, 46), 1, False, False, '5', '5')\n",
      "('12690872', datetime.date(2024, 1, 1), 'Intercity', 'NS', '1413', False, False, 0, '114307643', 'ASS', 'Amsterdam Sloterdijk', datetime.datetime(2024, 1, 1, 3, 52), 2, False, datetime.datetime(2024, 1, 1, 3, 52), 2, False, False, '11', '11')\n",
      "('12690875', datetime.date(2024, 1, 1), 'Intercity', 'NS', '1418', False, False, 0, '114307668', 'ASS', 'Amsterdam Sloterdijk', datetime.datetime(2024, 1, 1, 5, 11), 1, False, datetime.datetime(2024, 1, 1, 5, 11), 1, False, False, '12', '12')\n",
      "('12690875', datetime.date(2024, 1, 1), 'Intercity', 'NS', '1418', False, False, 0, '114307669', 'ASD', 'Amsterdam Centraal', datetime.datetime(2024, 1, 1, 5, 17), 1, False, datetime.datetime(2024, 1, 1, 5, 19), 2, False, False, '4', '4')\n",
      "('12690875', datetime.date(2024, 1, 1), 'Intercity', 'NS', '1418', False, False, 0, '114307670', 'ASB', 'Amsterdam Bijlmer ArenA', datetime.datetime(2024, 1, 1, 5, 32), 1, False, datetime.datetime(2024, 1, 1, 5, 32), 1, False, False, '8', '8')\n",
      "('12690876', datetime.date(2024, 1, 1), 'Intercity', 'NS', '1417', False, False, 0, '114307673', 'ASB', 'Amsterdam Bijlmer ArenA', datetime.datetime(2024, 1, 1, 4, 29), 1, False, datetime.datetime(2024, 1, 1, 4, 29), 1, False, False, '6', '6')\n",
      "('12690876', datetime.date(2024, 1, 1), 'Intercity', 'NS', '1417', False, False, 0, '114307675', 'ASS', 'Amsterdam Sloterdijk', datetime.datetime(2024, 1, 1, 4, 54), 3, False, datetime.datetime(2024, 1, 1, 4, 54), 3, False, False, '11', '11')\n",
      "('12690876', datetime.date(2024, 1, 1), 'Intercity', 'NS', '1417', False, False, 0, '114307676', 'SHL', 'Schiphol Airport', datetime.datetime(2024, 1, 1, 5, 3), 1, False, datetime.datetime(2024, 1, 1, 5, 5), 4, False, True, '5/6', '6')\n",
      "('12690876', datetime.date(2024, 1, 1), 'Intercity', 'NS', '1417', False, False, 0, '114307677', 'LEDN', 'Leiden Centraal', datetime.datetime(2024, 1, 1, 5, 21), 1, False, datetime.datetime(2024, 1, 1, 5, 23), 1, False, False, '8b', '8b')\n",
      "('12690876', datetime.date(2024, 1, 1), 'Intercity', 'NS', '1417', False, False, 0, '114307679', 'DT', 'Delft', datetime.datetime(2024, 1, 1, 5, 45), 2, False, datetime.datetime(2024, 1, 1, 5, 45), 2, False, False, '2', '2')\n",
      "('12690879', datetime.date(2024, 1, 1), 'Sprinter', 'NS', '4308', False, False, 0, '114307699', 'ALMB', 'Almere Buiten', datetime.datetime(2024, 1, 1, 4, 58), 1, False, datetime.datetime(2024, 1, 1, 4, 58), 1, False, False, '1', '1')\n",
      "('12690879', datetime.date(2024, 1, 1), 'Sprinter', 'NS', '4308', False, False, 0, '114307700', 'ALMP', 'Almere Parkwijk', datetime.datetime(2024, 1, 1, 5, 1), 1, False, datetime.datetime(2024, 1, 1, 5, 1), 1, False, False, '1', '1')\n",
      "('12690879', datetime.date(2024, 1, 1), 'Sprinter', 'NS', '4308', False, False, 0, '114307701', 'ALM', 'Almere Centrum', datetime.datetime(2024, 1, 1, 5, 4), 2, False, datetime.datetime(2024, 1, 1, 5, 4), 2, False, False, '1', '1')\n",
      "('12690879', datetime.date(2024, 1, 1), 'Sprinter', 'NS', '4308', False, False, 0, '114307702', 'ALMM', 'Almere Muziekwijk', datetime.datetime(2024, 1, 1, 5, 7), 2, False, datetime.datetime(2024, 1, 1, 5, 7), 2, False, False, '1', '1')\n",
      "('12690879', datetime.date(2024, 1, 1), 'Sprinter', 'NS', '4308', False, False, 0, '114307703', 'AMPO', 'Almere Poort', datetime.datetime(2024, 1, 1, 5, 11), 2, False, datetime.datetime(2024, 1, 1, 5, 11), 2, False, False, '1', '1')\n",
      "('12690879', datetime.date(2024, 1, 1), 'Sprinter', 'NS', '4308', False, False, 0, '114307704', 'WP', 'Weesp', datetime.datetime(2024, 1, 1, 5, 18), 1, False, datetime.datetime(2024, 1, 1, 5, 21), 6, False, False, '6', '6')\n",
      "('12690879', datetime.date(2024, 1, 1), 'Sprinter', 'NS', '4308', False, False, 0, '114307705', 'DMNZ', 'Diemen Zuid', datetime.datetime(2024, 1, 1, 5, 27), 7, False, datetime.datetime(2024, 1, 1, 5, 27), 7, False, False, '2', '2')\n",
      "('12690879', datetime.date(2024, 1, 1), 'Sprinter', 'NS', '4308', False, False, 0, '114307706', 'DVD', 'Duivendrecht', datetime.datetime(2024, 1, 1, 5, 30), 6, False, datetime.datetime(2024, 1, 1, 5, 30), 6, False, False, '4', '4')\n",
      "('12690879', datetime.date(2024, 1, 1), 'Sprinter', 'NS', '4308', False, False, 0, '114307707', 'RAI', 'Amsterdam RAI', datetime.datetime(2024, 1, 1, 5, 34), 6, False, datetime.datetime(2024, 1, 1, 5, 34), 6, False, False, '3', '3')\n",
      "('12690879', datetime.date(2024, 1, 1), 'Sprinter', 'NS', '4308', False, False, 0, '114307708', 'ASDZ', 'Amsterdam Zuid', datetime.datetime(2024, 1, 1, 5, 36), 6, False, datetime.datetime(2024, 1, 1, 5, 37), 5, False, False, '3', '3')\n",
      "('12690879', datetime.date(2024, 1, 1), 'Sprinter', 'NS', '4308', False, False, 0, '114307709', 'SHL', 'Schiphol Airport', datetime.datetime(2024, 1, 1, 5, 43), 5, False, datetime.datetime(2024, 1, 1, 5, 45), 4, False, False, '4', '4')\n",
      "('12690881', datetime.date(2024, 1, 1), 'Sprinter', 'NS', '5808', False, False, 0, '114307715', 'BRN', 'Baarn', datetime.datetime(2024, 1, 1, 4, 56), 1, False, datetime.datetime(2024, 1, 1, 4, 56), 1, False, False, '2', '2')\n",
      "('12690881', datetime.date(2024, 1, 1), 'Sprinter', 'NS', '5808', False, False, 0, '114307716', 'HVS', 'Hilversum', datetime.datetime(2024, 1, 1, 5, 2), 1, False, datetime.datetime(2024, 1, 1, 5, 3), 1, False, False, '5', '5')\n",
      "('12690881', datetime.date(2024, 1, 1), 'Sprinter', 'NS', '5808', False, False, 0, '114307717', 'HVSM', 'Hilversum Media Park', datetime.datetime(2024, 1, 1, 5, 5), 2, False, datetime.datetime(2024, 1, 1, 5, 5), 2, False, False, '2', '2')\n",
      "('12690881', datetime.date(2024, 1, 1), 'Sprinter', 'NS', '5808', False, False, 0, '114307718', 'BSMZ', 'Bussum Zuid', datetime.datetime(2024, 1, 1, 5, 9), 2, False, datetime.datetime(2024, 1, 1, 5, 9), 2, False, False, '1', '1')\n",
      "('12690881', datetime.date(2024, 1, 1), 'Sprinter', 'NS', '5808', False, False, 0, '114307719', 'NDB', 'Naarden-Bussum', datetime.datetime(2024, 1, 1, 5, 12), 9, False, datetime.datetime(2024, 1, 1, 5, 12), 9, False, False, '1', '1')\n",
      "('12690881', datetime.date(2024, 1, 1), 'Sprinter', 'NS', '5808', False, False, 0, '114307720', 'WP', 'Weesp', datetime.datetime(2024, 1, 1, 5, 18), 9, False, datetime.datetime(2024, 1, 1, 5, 21), 8, False, False, '5', '5')\n",
      "('12690881', datetime.date(2024, 1, 1), 'Sprinter', 'NS', '5808', False, False, 0, '114307721', 'DMN', 'Diemen', datetime.datetime(2024, 1, 1, 5, 26), 8, False, datetime.datetime(2024, 1, 1, 5, 26), 8, False, False, '2', '2')\n",
      "('12690881', datetime.date(2024, 1, 1), 'Sprinter', 'NS', '5808', False, False, 0, '114307722', 'ASSP', 'Amsterdam Science Park', datetime.datetime(2024, 1, 1, 5, 28), 9, False, datetime.datetime(2024, 1, 1, 5, 28), 9, False, False, '2', '2')\n",
      "('12690881', datetime.date(2024, 1, 1), 'Sprinter', 'NS', '5808', False, False, 0, '114307723', 'ASDM', 'Amsterdam Muiderpoort', datetime.datetime(2024, 1, 1, 5, 31), 9, False, datetime.datetime(2024, 1, 1, 5, 31), 9, False, False, '3', '3')\n",
      "('12690882', datetime.date(2024, 1, 1), 'Intercity', 'NS', '1422', False, False, 0, '114307730', 'ASS', 'Amsterdam Sloterdijk', datetime.datetime(2024, 1, 1, 6, 12), 4, False, datetime.datetime(2024, 1, 1, 6, 12), 4, False, False, '12', '12')\n",
      "('12690882', datetime.date(2024, 1, 1), 'Intercity', 'NS', '1422', False, False, 0, '114307731', 'ASD', 'Amsterdam Centraal', datetime.datetime(2024, 1, 1, 6, 19), 3, False, datetime.datetime(2024, 1, 1, 6, 25), 1, False, False, '4', '4')\n",
      "('12690883', datetime.date(2024, 1, 1), 'Sprinter', 'NS', '4019', False, False, 0, '114307737', 'UTG', 'Uitgeest', datetime.datetime(2024, 1, 1, 5, 16), 1, False, datetime.datetime(2024, 1, 1, 5, 16), 1, False, False, '3', '3')\n",
      "('12690883', datetime.date(2024, 1, 1), 'Sprinter', 'NS', '4019', False, False, 0, '114307738', 'KMA', 'Krommenie-Assendelft', datetime.datetime(2024, 1, 1, 5, 20), 1, False, datetime.datetime(2024, 1, 1, 5, 20), 1, False, False, '2', '2')\n",
      "('12690884', datetime.date(2024, 1, 1), 'Sprinter', 'NS', '3317', False, False, 0, '114307746', 'PMO', 'Purmerend Overwhere', datetime.datetime(2024, 1, 1, 5, 17), 1, False, datetime.datetime(2024, 1, 1, 5, 17), 1, False, False, '1', '1')\n",
      "('12690884', datetime.date(2024, 1, 1), 'Sprinter', 'NS', '3317', False, False, 0, '114307747', 'PMR', 'Purmerend', datetime.datetime(2024, 1, 1, 5, 20), 1, False, datetime.datetime(2024, 1, 1, 5, 20), 1, False, False, '1', '1')\n",
      "('12690885', datetime.date(2024, 1, 1), 'Intercity', 'NS', '1421', False, False, 0, '114307755', 'ASB', 'Amsterdam Bijlmer ArenA', datetime.datetime(2024, 1, 1, 5, 29), 5, False, datetime.datetime(2024, 1, 1, 5, 29), 5, False, False, '1', '1')\n",
      "('12690885', datetime.date(2024, 1, 1), 'Intercity', 'NS', '1421', False, False, 0, '114307756', 'ASD', 'Amsterdam Centraal', datetime.datetime(2024, 1, 1, 5, 42), 2, False, datetime.datetime(2024, 1, 1, 5, 43), 6, False, False, '5', '5')\n",
      "('12690885', datetime.date(2024, 1, 1), 'Intercity', 'NS', '1421', False, False, 0, '114307757', 'ASS', 'Amsterdam Sloterdijk', datetime.datetime(2024, 1, 1, 5, 49), 8, False, datetime.datetime(2024, 1, 1, 5, 49), 8, False, False, '11', '11')\n",
      "('12690885', datetime.date(2024, 1, 1), 'Intercity', 'NS', '1421', False, False, 0, '114307758', 'SHL', 'Schiphol Airport', datetime.datetime(2024, 1, 1, 5, 58), 12, False, datetime.datetime(2024, 1, 1, 5, 58), 12, False, True, '5/6', '5')\n",
      "('12690885', datetime.date(2024, 1, 1), 'Intercity', 'NS', '1421', False, False, 0, '114307759', 'LEDN', 'Leiden Centraal', datetime.datetime(2024, 1, 1, 6, 14), 10, False, datetime.datetime(2024, 1, 1, 6, 15), 12, False, False, '8b', '8b')\n",
      "('12690885', datetime.date(2024, 1, 1), 'Intercity', 'NS', '1421', False, False, 0, '114307760', 'GV', 'Den Haag HS', datetime.datetime(2024, 1, 1, 6, 26), 11, False, datetime.datetime(2024, 1, 1, 6, 28), 17, False, False, '4', '4')\n",
      "('12690885', datetime.date(2024, 1, 1), 'Intercity', 'NS', '1421', False, False, 0, '114307761', 'DT', 'Delft', datetime.datetime(2024, 1, 1, 6, 34), 18, False, datetime.datetime(2024, 1, 1, 6, 34), 18, False, False, '2', '2')\n",
      "('12690888', datetime.date(2024, 1, 1), 'Stoptrein', 'VIAS', '20006', False, False, 0, '114307782', 'OBERH', 'Oberhausen Hbf', datetime.datetime(2024, 1, 1, 5, 49), 6, False, datetime.datetime(2024, 1, 1, 5, 50), 7, False, False, None, None)\n",
      "('12690888', datetime.date(2024, 1, 1), 'Stoptrein', 'VIAS', '20006', False, False, 0, '114307783', 'OBERHS', 'Oberhausen-Sterkrade', datetime.datetime(2024, 1, 1, 5, 54), 8, False, datetime.datetime(2024, 1, 1, 5, 54), 8, False, False, None, None)\n",
      "('12690888', datetime.date(2024, 1, 1), 'Stoptrein', 'VIAS', '20006', False, False, 0, '114307784', 'WESEL', 'Wesel', datetime.datetime(2024, 1, 1, 6, 14), 9, False, datetime.datetime(2024, 1, 1, 6, 16), 9, False, False, None, None)\n",
      "('12690888', datetime.date(2024, 1, 1), 'Stoptrein', 'VIAS', '20006', False, False, 0, '114307785', 'EPRA', 'Praest', datetime.datetime(2024, 1, 1, 6, 38), 10, False, datetime.datetime(2024, 1, 1, 6, 38), 10, False, False, None, None)\n",
      "('12690888', datetime.date(2024, 1, 1), 'Stoptrein', 'VIAS', '20006', False, False, 0, '114307786', 'EM', 'Emmerich', datetime.datetime(2024, 1, 1, 6, 43), 9, False, datetime.datetime(2024, 1, 1, 6, 46), 7, False, False, None, None)\n",
      "('12690888', datetime.date(2024, 1, 1), 'Stoptrein', 'VIAS', '20006', False, False, 0, '114307787', 'EL', 'Emmerich-Elten', datetime.datetime(2024, 1, 1, 6, 51), 8, False, datetime.datetime(2024, 1, 1, 6, 51), 8, False, False, None, None)\n",
      "('12690888', datetime.date(2024, 1, 1), 'Stoptrein', 'VIAS', '20006', False, False, 0, '114307788', 'ZV', 'Zevenaar', datetime.datetime(2024, 1, 1, 6, 58), 8, False, datetime.datetime(2024, 1, 1, 7, 2), 4, False, False, '2', '2')\n",
      "('12690889', datetime.date(2024, 1, 1), 'Stoptrein', 'NMBS', '2555', False, False, 0, '114307791', 'ATWLB', 'Antwerpen-Luchtbal', datetime.datetime(2024, 1, 1, 5, 55), 1, False, datetime.datetime(2024, 1, 1, 5, 55), 1, False, False, None, None)\n",
      "('12690889', datetime.date(2024, 1, 1), 'Stoptrein', 'NMBS', '2555', False, False, 0, '114307796', 'MID', 'Heide (B)', datetime.datetime(2024, 1, 1, 6, 14), 1, False, datetime.datetime(2024, 1, 1, 6, 14), 1, False, False, None, None)\n",
      "('12690889', datetime.date(2024, 1, 1), 'Stoptrein', 'NMBS', '2555', False, False, 0, '114307797', 'GKT', 'Kijkuit', datetime.datetime(2024, 1, 1, 6, 17), 1, False, datetime.datetime(2024, 1, 1, 6, 17), 1, False, False, None, None)\n",
      "('12690890', datetime.date(2024, 1, 1), 'Intercity', 'NS Int', '240', False, False, 0, '114307806', 'BUENDE', 'Bünde (Westf)', datetime.datetime(2024, 1, 1, 8, 41), 2, False, datetime.datetime(2024, 1, 1, 8, 43), 1, False, False, None, None)\n",
      "('12690890', datetime.date(2024, 1, 1), 'Intercity', 'NS Int', '240', False, False, 0, '114307807', 'OSNH', 'Osnabrück Hbf', datetime.datetime(2024, 1, 1, 9, 4), 4, False, datetime.datetime(2024, 1, 1, 9, 6), 4, False, False, None, None)\n",
      "('12690890', datetime.date(2024, 1, 1), 'Intercity', 'NS Int', '240', False, False, 0, '114307814', 'HVS', 'Hilversum', datetime.datetime(2024, 1, 1, 11, 38), 1, False, datetime.datetime(2024, 1, 1, 11, 39), 1, False, False, '5', '5')\n",
      "('12690891', datetime.date(2024, 1, 1), 'Intercity', 'NS Int', '242', False, False, 0, '114307817', 'BUENDE', 'Bünde (Westf)', datetime.datetime(2024, 1, 1, 6, 41), 1, False, datetime.datetime(2024, 1, 1, 6, 43), 1, False, False, None, None)\n",
      "('12690891', datetime.date(2024, 1, 1), 'Intercity', 'NS Int', '242', False, False, 0, '114307820', 'BH', 'Bad Bentheim', datetime.datetime(2024, 1, 1, 7, 48), 3, False, datetime.datetime(2024, 1, 1, 7, 51), 5, False, False, None, None)\n",
      "('12690891', datetime.date(2024, 1, 1), 'Intercity', 'NS Int', '242', False, False, 0, '114307821', 'HGL', 'Hengelo', datetime.datetime(2024, 1, 1, 8, 7), 7, False, datetime.datetime(2024, 1, 1, 8, 9), 8, False, False, '2', '2')\n",
      "('12690891', datetime.date(2024, 1, 1), 'Intercity', 'NS Int', '242', False, False, 0, '114307822', 'DV', 'Deventer', datetime.datetime(2024, 1, 1, 8, 41), 10, False, datetime.datetime(2024, 1, 1, 8, 45), 8, False, True, '3', '4')\n",
      "('12690891', datetime.date(2024, 1, 1), 'Intercity', 'NS Int', '242', False, False, 0, '114307823', 'APD', 'Apeldoorn', datetime.datetime(2024, 1, 1, 8, 57), 7, False, datetime.datetime(2024, 1, 1, 8, 59), 8, False, False, '1', '1')\n",
      "('12690891', datetime.date(2024, 1, 1), 'Intercity', 'NS Int', '242', False, False, 0, '114307824', 'AMF', 'Amersfoort Centraal', datetime.datetime(2024, 1, 1, 9, 24), 10, False, datetime.datetime(2024, 1, 1, 9, 26), 9, False, False, '7', '7')\n",
      "('12690891', datetime.date(2024, 1, 1), 'Intercity', 'NS Int', '242', False, False, 0, '114307825', 'HVS', 'Hilversum', datetime.datetime(2024, 1, 1, 9, 38), 10, False, datetime.datetime(2024, 1, 1, 9, 39), 12, False, False, '5', '5')\n",
      "('12690892', datetime.date(2024, 1, 1), 'Intercity', 'NS', '1426', False, False, 0, '114307834', 'ASB', 'Amsterdam Bijlmer ArenA', datetime.datetime(2024, 1, 1, 7, 37), 1, False, datetime.datetime(2024, 1, 1, 7, 37), 1, False, False, '8', '8')\n",
      "('12690894', datetime.date(2024, 1, 1), 'Intercity', 'NS', '1425', False, False, 0, '114307855', 'ASS', 'Amsterdam Sloterdijk', datetime.datetime(2024, 1, 1, 6, 52), 1, False, datetime.datetime(2024, 1, 1, 6, 52), 1, False, False, '11', '11')\n",
      "('12690894', datetime.date(2024, 1, 1), 'Intercity', 'NS', '1425', False, False, 0, '114307859', 'DT', 'Delft', datetime.datetime(2024, 1, 1, 7, 45), 1, False, datetime.datetime(2024, 1, 1, 7, 45), 1, False, False, '2', '2')\n",
      "('12690897', datetime.date(2024, 1, 1), 'Stoptrein', 'Arriva', '37713', False, False, 0, '114307876', 'GNN', 'Groningen Noord', datetime.datetime(2024, 1, 1, 6, 22), 1, False, datetime.datetime(2024, 1, 1, 6, 22), 1, False, False, '1', '1')\n",
      "('12690897', datetime.date(2024, 1, 1), 'Stoptrein', 'Arriva', '37713', False, False, 0, '114307877', 'SWD', 'Sauwerd', datetime.datetime(2024, 1, 1, 6, 27), 1, False, datetime.datetime(2024, 1, 1, 6, 28), 1, False, False, '2', '2')\n",
      "('12690897', datetime.date(2024, 1, 1), 'Stoptrein', 'Arriva', '37713', False, False, 0, '114307878', 'BDM', 'Bedum', datetime.datetime(2024, 1, 1, 6, 32), 1, False, datetime.datetime(2024, 1, 1, 6, 32), 2, False, False, '1', '1')\n",
      "('12690897', datetime.date(2024, 1, 1), 'Stoptrein', 'Arriva', '37713', False, False, 0, '114307879', 'STM', 'Stedum', datetime.datetime(2024, 1, 1, 6, 38), 1, False, datetime.datetime(2024, 1, 1, 6, 38), 1, False, False, '1', '1')\n",
      "('12690897', datetime.date(2024, 1, 1), 'Stoptrein', 'Arriva', '37713', False, False, 0, '114307882', 'DZW', 'Delfzijl West', datetime.datetime(2024, 1, 1, 6, 53), 2, False, datetime.datetime(2024, 1, 1, 6, 53), 2, False, False, '1', '1')\n",
      "('12690900', datetime.date(2024, 1, 1), 'Stoptrein', 'VIAS', '20008', False, False, 0, '114307917', 'DUISB', 'Duisburg Hbf', datetime.datetime(2024, 1, 1, 6, 43), 8, False, datetime.datetime(2024, 1, 1, 6, 44), 9, False, False, None, None)\n",
      "('12690900', datetime.date(2024, 1, 1), 'Stoptrein', 'VIAS', '20008', False, False, 0, '114307918', 'OBERH', 'Oberhausen Hbf', datetime.datetime(2024, 1, 1, 6, 49), 10, False, datetime.datetime(2024, 1, 1, 6, 50), 10, False, False, None, None)\n",
      "('12690900', datetime.date(2024, 1, 1), 'Stoptrein', 'VIAS', '20008', False, False, 0, '114307919', 'OBERHS', 'Oberhausen-Sterkrade', datetime.datetime(2024, 1, 1, 6, 54), 10, False, datetime.datetime(2024, 1, 1, 6, 54), 10, False, False, None, None)\n",
      "('12690900', datetime.date(2024, 1, 1), 'Stoptrein', 'VIAS', '20008', False, False, 0, '114307920', 'WESEL', 'Wesel', datetime.datetime(2024, 1, 1, 7, 14), 10, False, datetime.datetime(2024, 1, 1, 7, 16), 11, False, False, None, None)\n",
      "('12690900', datetime.date(2024, 1, 1), 'Stoptrein', 'VIAS', '20008', False, False, 0, '114307921', 'EPRA', 'Praest', datetime.datetime(2024, 1, 1, 7, 38), 9, False, datetime.datetime(2024, 1, 1, 7, 38), 9, False, False, None, None)\n",
      "('12690900', datetime.date(2024, 1, 1), 'Stoptrein', 'VIAS', '20008', False, False, 0, '114307922', 'EM', 'Emmerich', datetime.datetime(2024, 1, 1, 7, 43), 8, False, datetime.datetime(2024, 1, 1, 7, 46), 6, False, False, None, None)\n",
      "('12690900', datetime.date(2024, 1, 1), 'Stoptrein', 'VIAS', '20008', False, False, 0, '114307923', 'EL', 'Emmerich-Elten', datetime.datetime(2024, 1, 1, 7, 51), 5, False, datetime.datetime(2024, 1, 1, 7, 51), 5, False, False, None, None)\n",
      "('12690900', datetime.date(2024, 1, 1), 'Stoptrein', 'VIAS', '20008', False, False, 0, '114307924', 'ZV', 'Zevenaar', datetime.datetime(2024, 1, 1, 7, 58), 4, False, datetime.datetime(2024, 1, 1, 8, 2), 1, False, False, '2', '2')\n",
      "('12690904', datetime.date(2024, 1, 1), 'Intercity direct', 'NS Int', '9215', False, False, 0, '114307958', 'SHL', 'Schiphol Airport', datetime.datetime(2024, 1, 1, 9, 16), 2, False, datetime.datetime(2024, 1, 1, 9, 18), 3, False, True, '1/2', '2')\n",
      "('12690905', datetime.date(2024, 1, 1), 'Stoptrein', 'VIAS', '20011', False, True, 0, '114307964', 'EPRA', 'Praest', datetime.datetime(2024, 1, 1, 7, 13), 6, False, datetime.datetime(2024, 1, 1, 7, 13), 6, False, False, None, None)\n",
      "('12690905', datetime.date(2024, 1, 1), 'Stoptrein', 'VIAS', '20011', False, True, 0, '114307965', 'WESEL', 'Wesel', datetime.datetime(2024, 1, 1, 7, 40), 4, False, datetime.datetime(2024, 1, 1, 7, 43), 3, False, False, None, None)\n",
      "('12690905', datetime.date(2024, 1, 1), 'Stoptrein', 'VIAS', '20011', False, True, 0, '114307966', 'OBERHS', 'Oberhausen-Sterkrade', datetime.datetime(2024, 1, 1, 8, 2), 2, False, datetime.datetime(2024, 1, 1, 8, 2), 2, False, False, None, None)\n"
     ]
    }
   ],
   "source": [
    "with psycopg.connect(db_conn_string) as conn:\n",
    "    with conn.cursor() as cur:\n",
    "        cur.execute(\n",
    "            'SELECT * FROM services WHERE \"Stop:Arrival delay\" > 0 AND \"Stop:Departure delay\" > 0 LIMIT 100'\n",
    "        )\n",
    "\n",
    "        for record in cur:\n",
    "            print(record)"
   ]
  },
  {
   "cell_type": "markdown",
   "id": "ec9102a5",
   "metadata": {},
   "source": [
    "Exercise 2\n"
   ]
  },
  {
   "cell_type": "code",
   "execution_count": 4,
   "id": "6529641e",
   "metadata": {},
   "outputs": [
    {
     "name": "stdout",
     "output_type": "stream",
     "text": [
      "{'Service:RDT-ID': '12690865', 'Service:Date': datetime.date(2024, 1, 1), 'Service:Type': 'Intercity', 'Service:Company': 'NS', 'Service:Train number': '1410', 'Service:Completely cancelled': False, 'Service:Partly cancelled': False, 'Service:Maximum delay': 2, 'Stop:RDT-ID': '114307592', 'Stop:Station code': 'RTD', 'Stop:Station name': 'Rotterdam Centraal', 'Stop:Arrival time': None, 'Stop:Arrival delay': None, 'Stop:Arrival cancelled': None, 'Stop:Departure time': datetime.datetime(2024, 1, 1, 2, 0), 'Stop:Departure delay': 0, 'Stop:Departure cancelled': False, 'Stop:Platform change': False, 'Stop:Planned platform': '9', 'Stop:Actual platform': '9'}\n",
      "{'Service:RDT-ID': '12690865', 'Service:Date': datetime.date(2024, 1, 1), 'Service:Type': 'Intercity', 'Service:Company': 'NS', 'Service:Train number': '1410', 'Service:Completely cancelled': False, 'Service:Partly cancelled': False, 'Service:Maximum delay': 0, 'Stop:RDT-ID': '114307593', 'Stop:Station code': 'DT', 'Stop:Station name': 'Delft', 'Stop:Arrival time': datetime.datetime(2024, 1, 1, 2, 13), 'Stop:Arrival delay': 0, 'Stop:Arrival cancelled': False, 'Stop:Departure time': datetime.datetime(2024, 1, 1, 2, 13), 'Stop:Departure delay': 0, 'Stop:Departure cancelled': False, 'Stop:Platform change': False, 'Stop:Planned platform': '1', 'Stop:Actual platform': '1'}\n",
      "{'Service:RDT-ID': '12690865', 'Service:Date': datetime.date(2024, 1, 1), 'Service:Type': 'Intercity', 'Service:Company': 'NS', 'Service:Train number': '1410', 'Service:Completely cancelled': False, 'Service:Partly cancelled': False, 'Service:Maximum delay': 0, 'Stop:RDT-ID': '114307594', 'Stop:Station code': 'GV', 'Stop:Station name': 'Den Haag HS', 'Stop:Arrival time': datetime.datetime(2024, 1, 1, 2, 21), 'Stop:Arrival delay': 0, 'Stop:Arrival cancelled': False, 'Stop:Departure time': datetime.datetime(2024, 1, 1, 2, 22), 'Stop:Departure delay': 0, 'Stop:Departure cancelled': False, 'Stop:Platform change': False, 'Stop:Planned platform': '6', 'Stop:Actual platform': '6'}\n",
      "{'Service:RDT-ID': '12690865', 'Service:Date': datetime.date(2024, 1, 1), 'Service:Type': 'Intercity', 'Service:Company': 'NS', 'Service:Train number': '1410', 'Service:Completely cancelled': False, 'Service:Partly cancelled': False, 'Service:Maximum delay': 0, 'Stop:RDT-ID': '114307595', 'Stop:Station code': 'LEDN', 'Stop:Station name': 'Leiden Centraal', 'Stop:Arrival time': datetime.datetime(2024, 1, 1, 2, 35), 'Stop:Arrival delay': 0, 'Stop:Arrival cancelled': False, 'Stop:Departure time': datetime.datetime(2024, 1, 1, 2, 40), 'Stop:Departure delay': 0, 'Stop:Departure cancelled': False, 'Stop:Platform change': True, 'Stop:Planned platform': '5b', 'Stop:Actual platform': '8b'}\n",
      "{'Service:RDT-ID': '12690865', 'Service:Date': datetime.date(2024, 1, 1), 'Service:Type': 'Intercity', 'Service:Company': 'NS', 'Service:Train number': '1410', 'Service:Completely cancelled': False, 'Service:Partly cancelled': False, 'Service:Maximum delay': 0, 'Stop:RDT-ID': '114307596', 'Stop:Station code': 'SHL', 'Stop:Station name': 'Schiphol Airport', 'Stop:Arrival time': datetime.datetime(2024, 1, 1, 3, 0), 'Stop:Arrival delay': 0, 'Stop:Arrival cancelled': False, 'Stop:Departure time': datetime.datetime(2024, 1, 1, 3, 3), 'Stop:Departure delay': 0, 'Stop:Departure cancelled': False, 'Stop:Platform change': False, 'Stop:Planned platform': '3', 'Stop:Actual platform': '3'}\n",
      "{'Service:RDT-ID': '12690865', 'Service:Date': datetime.date(2024, 1, 1), 'Service:Type': 'Intercity', 'Service:Company': 'NS', 'Service:Train number': '1410', 'Service:Completely cancelled': False, 'Service:Partly cancelled': False, 'Service:Maximum delay': 0, 'Stop:RDT-ID': '114307597', 'Stop:Station code': 'ASS', 'Stop:Station name': 'Amsterdam Sloterdijk', 'Stop:Arrival time': datetime.datetime(2024, 1, 1, 3, 12), 'Stop:Arrival delay': 0, 'Stop:Arrival cancelled': False, 'Stop:Departure time': datetime.datetime(2024, 1, 1, 3, 12), 'Stop:Departure delay': 0, 'Stop:Departure cancelled': False, 'Stop:Platform change': False, 'Stop:Planned platform': '12', 'Stop:Actual platform': '12'}\n",
      "{'Service:RDT-ID': '12690865', 'Service:Date': datetime.date(2024, 1, 1), 'Service:Type': 'Intercity', 'Service:Company': 'NS', 'Service:Train number': '1410', 'Service:Completely cancelled': False, 'Service:Partly cancelled': False, 'Service:Maximum delay': 0, 'Stop:RDT-ID': '114307598', 'Stop:Station code': 'ASD', 'Stop:Station name': 'Amsterdam Centraal', 'Stop:Arrival time': datetime.datetime(2024, 1, 1, 3, 18), 'Stop:Arrival delay': 1, 'Stop:Arrival cancelled': False, 'Stop:Departure time': datetime.datetime(2024, 1, 1, 3, 20), 'Stop:Departure delay': 2, 'Stop:Departure cancelled': False, 'Stop:Platform change': False, 'Stop:Planned platform': '4', 'Stop:Actual platform': '4'}\n",
      "{'Service:RDT-ID': '12690865', 'Service:Date': datetime.date(2024, 1, 1), 'Service:Type': 'Intercity', 'Service:Company': 'NS', 'Service:Train number': '1410', 'Service:Completely cancelled': False, 'Service:Partly cancelled': False, 'Service:Maximum delay': 0, 'Stop:RDT-ID': '114307599', 'Stop:Station code': 'ASB', 'Stop:Station name': 'Amsterdam Bijlmer ArenA', 'Stop:Arrival time': datetime.datetime(2024, 1, 1, 3, 31), 'Stop:Arrival delay': 2, 'Stop:Arrival cancelled': False, 'Stop:Departure time': datetime.datetime(2024, 1, 1, 3, 31), 'Stop:Departure delay': 2, 'Stop:Departure cancelled': False, 'Stop:Platform change': False, 'Stop:Planned platform': '8', 'Stop:Actual platform': '8'}\n",
      "{'Service:RDT-ID': '12690865', 'Service:Date': datetime.date(2024, 1, 1), 'Service:Type': 'Intercity', 'Service:Company': 'NS', 'Service:Train number': '1410', 'Service:Completely cancelled': False, 'Service:Partly cancelled': False, 'Service:Maximum delay': 0, 'Stop:RDT-ID': '114307600', 'Stop:Station code': 'UT', 'Stop:Station name': 'Utrecht Centraal', 'Stop:Arrival time': datetime.datetime(2024, 1, 1, 3, 50), 'Stop:Arrival delay': 0, 'Stop:Arrival cancelled': False, 'Stop:Departure time': None, 'Stop:Departure delay': None, 'Stop:Departure cancelled': None, 'Stop:Platform change': False, 'Stop:Planned platform': '15', 'Stop:Actual platform': '15'}\n",
      "{'Service:RDT-ID': '12690866', 'Service:Date': datetime.date(2024, 1, 1), 'Service:Type': 'Nightjet', 'Service:Company': 'NS Int', 'Service:Train number': '420', 'Service:Completely cancelled': False, 'Service:Partly cancelled': False, 'Service:Maximum delay': 6, 'Stop:RDT-ID': '114307601', 'Stop:Station code': 'NURNB', 'Stop:Station name': 'Nürnberg Hbf', 'Stop:Arrival time': None, 'Stop:Arrival delay': None, 'Stop:Arrival cancelled': None, 'Stop:Departure time': datetime.datetime(2024, 1, 1, 2, 1), 'Stop:Departure delay': 0, 'Stop:Departure cancelled': False, 'Stop:Platform change': False, 'Stop:Planned platform': None, 'Stop:Actual platform': None}\n"
     ]
    }
   ],
   "source": [
    "from psycopg.rows import dict_row\n",
    "\n",
    "with psycopg.connect(db_conn_string) as conn:\n",
    "    with conn.cursor(row_factory=dict_row) as cur:\n",
    "        cur.execute(\"SELECT * FROM services LIMIT 10\")\n",
    "\n",
    "        for row in cur:\n",
    "            print(row)"
   ]
  },
  {
   "cell_type": "markdown",
   "id": "c8851b35",
   "metadata": {},
   "source": [
    "Exercise 3\n"
   ]
  },
  {
   "cell_type": "code",
   "execution_count": 7,
   "id": "86909ff9",
   "metadata": {},
   "outputs": [],
   "source": [
    "import json\n",
    "\n",
    "json_path = \"data/results.jsonl\"\n",
    "\n",
    "with open(json_path, \"w\", encoding=\"utf-8\") as f:\n",
    "    with psycopg.connect(db_conn_string) as conn:\n",
    "        with conn.cursor(row_factory=dict_row) as cur:\n",
    "            cur.execute(\"SELECT * FROM services LIMIT 100\")\n",
    "\n",
    "            for row in cur:\n",
    "                json.dump(row, f, ensure_ascii=False, default=str)\n",
    "                f.write(\"\\n\")"
   ]
  }
 ],
 "metadata": {
  "kernelspec": {
   "display_name": "lab02_labs (3.12.9)",
   "language": "python",
   "name": "python3"
  },
  "language_info": {
   "codemirror_mode": {
    "name": "ipython",
    "version": 3
   },
   "file_extension": ".py",
   "mimetype": "text/x-python",
   "name": "python",
   "nbconvert_exporter": "python",
   "pygments_lexer": "ipython3",
   "version": "3.12.9"
  }
 },
 "nbformat": 4,
 "nbformat_minor": 5
}
