{
 "cells": [
  {
   "cell_type": "markdown",
   "id": "d1dc8868",
   "metadata": {},
   "source": [
    "## 1. Data reading\n",
    "\n",
    "## 2. Data cleaning and filtering\n",
    "\n",
    "## 3. Data transformation\n"
   ]
  },
  {
   "cell_type": "code",
   "execution_count": 1,
   "id": "c301ec26",
   "metadata": {},
   "outputs": [],
   "source": [
    "import polars as pl\n",
    "from datetime import datetime, time"
   ]
  },
  {
   "cell_type": "code",
   "execution_count": 2,
   "id": "c06c3550",
   "metadata": {},
   "outputs": [],
   "source": [
    "DATA_DIR = \"data\"\n",
    "MONEY_RELATED_COLS = [\n",
    "    \"fare_amount\",\n",
    "    \"extra\",\n",
    "    \"mta_tax\",\n",
    "    \"tip_amount\",\n",
    "    \"tolls_amount\",\n",
    "    \"improvement_surcharge\",\n",
    "    \"total_amount\",\n",
    "    \"congestion_surcharge\",\n",
    "    \"Airport_fee\",\n",
    "]\n",
    "VALID_VENDOR_IDS = [1, 2, 6, 7]\n",
    "VALID_RATECODE_IDS = [1, 2, 3, 4, 5, 6, 99]\n",
    "\n",
    "df = (\n",
    "    pl.concat(\n",
    "        [pl.scan_parquet(f\"{DATA_DIR}/{month}.parquet\") for month in range(1, 6)],\n",
    "        how=\"vertical_relaxed\",\n",
    "    )\n",
    "    .with_columns(\n",
    "        [\n",
    "            pl.col(\"tpep_pickup_datetime\").cast(pl.Datetime(\"us\")),\n",
    "            pl.col(\"tpep_dropoff_datetime\").cast(pl.Datetime(\"us\")),\n",
    "            pl.col(\"passenger_count\").fill_null(1).clip(0, 6).cast(pl.UInt8),\n",
    "            (\n",
    "                (\n",
    "                    pl.col(\"tpep_dropoff_datetime\") - pl.col(\"tpep_pickup_datetime\")\n",
    "                ).dt.total_hours()\n",
    "            ).alias(\"duration_hours\"),\n",
    "        ]\n",
    "    )\n",
    "    .with_columns([pl.col(col).abs() for col in MONEY_RELATED_COLS])\n",
    "    .with_columns(\n",
    "        pl.when(pl.col(\"payment_type\") == 1)\n",
    "        .then(pl.lit(\"credit_card\"))\n",
    "        .when(pl.col(\"payment_type\") == 2)\n",
    "        .then(pl.lit(\"cash\"))\n",
    "        .when(pl.col(\"payment_type\").is_in([0, 3, 4, 5, 6]))\n",
    "        .then(pl.lit(\"other\"))\n",
    "        .otherwise(pl.lit(\"other\"))\n",
    "        .alias(\"payment_type\")\n",
    "    )\n",
    "    .filter(\n",
    "        (pl.col(\"tpep_pickup_datetime\") >= datetime(2024, 1, 1))\n",
    "        & (pl.col(\"tpep_pickup_datetime\") < datetime(2025, 1, 1))\n",
    "        & (pl.col(\"tpep_dropoff_datetime\") <= datetime(2025, 1, 1))\n",
    "        & (pl.col(\"passenger_count\") > 0)\n",
    "        & (pl.col(\"duration_hours\") <= 2)\n",
    "        & (pl.max_horizontal(MONEY_RELATED_COLS) <= 1000)\n",
    "        & pl.col(\"VendorID\").is_in(VALID_VENDOR_IDS)\n",
    "        & pl.col(\"RatecodeID\").is_in(VALID_RATECODE_IDS)\n",
    "    )\n",
    "    .collect()\n",
    ")"
   ]
  },
  {
   "cell_type": "code",
   "execution_count": 3,
   "id": "130d990f",
   "metadata": {},
   "outputs": [
    {
     "data": {
      "text/html": [
       "<div><style>\n",
       ".dataframe > thead > tr,\n",
       ".dataframe > tbody > tr {\n",
       "  text-align: right;\n",
       "  white-space: pre-wrap;\n",
       "}\n",
       "</style>\n",
       "<small>shape: (265, 4)</small><table border=\"1\" class=\"dataframe\"><thead><tr><th>LocationID</th><th>Borough</th><th>Zone</th><th>service_zone</th></tr><tr><td>i64</td><td>str</td><td>str</td><td>str</td></tr></thead><tbody><tr><td>1</td><td>&quot;EWR&quot;</td><td>&quot;Newark Airport&quot;</td><td>&quot;EWR&quot;</td></tr><tr><td>2</td><td>&quot;Queens&quot;</td><td>&quot;Jamaica Bay&quot;</td><td>&quot;Boro Zone&quot;</td></tr><tr><td>3</td><td>&quot;Bronx&quot;</td><td>&quot;Allerton/Pelham Gardens&quot;</td><td>&quot;Boro Zone&quot;</td></tr><tr><td>4</td><td>&quot;Manhattan&quot;</td><td>&quot;Alphabet City&quot;</td><td>&quot;Yellow Zone&quot;</td></tr><tr><td>5</td><td>&quot;Staten Island&quot;</td><td>&quot;Arden Heights&quot;</td><td>&quot;Boro Zone&quot;</td></tr><tr><td>&hellip;</td><td>&hellip;</td><td>&hellip;</td><td>&hellip;</td></tr><tr><td>261</td><td>&quot;Manhattan&quot;</td><td>&quot;World Trade Center&quot;</td><td>&quot;Yellow Zone&quot;</td></tr><tr><td>262</td><td>&quot;Manhattan&quot;</td><td>&quot;Yorkville East&quot;</td><td>&quot;Yellow Zone&quot;</td></tr><tr><td>263</td><td>&quot;Manhattan&quot;</td><td>&quot;Yorkville West&quot;</td><td>&quot;Yellow Zone&quot;</td></tr><tr><td>264</td><td>&quot;Unknown&quot;</td><td>&quot;N/A&quot;</td><td>&quot;N/A&quot;</td></tr><tr><td>265</td><td>&quot;N/A&quot;</td><td>&quot;Outside of NYC&quot;</td><td>&quot;N/A&quot;</td></tr></tbody></table></div>"
      ],
      "text/plain": [
       "shape: (265, 4)\n",
       "┌────────────┬───────────────┬─────────────────────────┬──────────────┐\n",
       "│ LocationID ┆ Borough       ┆ Zone                    ┆ service_zone │\n",
       "│ ---        ┆ ---           ┆ ---                     ┆ ---          │\n",
       "│ i64        ┆ str           ┆ str                     ┆ str          │\n",
       "╞════════════╪═══════════════╪═════════════════════════╪══════════════╡\n",
       "│ 1          ┆ EWR           ┆ Newark Airport          ┆ EWR          │\n",
       "│ 2          ┆ Queens        ┆ Jamaica Bay             ┆ Boro Zone    │\n",
       "│ 3          ┆ Bronx         ┆ Allerton/Pelham Gardens ┆ Boro Zone    │\n",
       "│ 4          ┆ Manhattan     ┆ Alphabet City           ┆ Yellow Zone  │\n",
       "│ 5          ┆ Staten Island ┆ Arden Heights           ┆ Boro Zone    │\n",
       "│ …          ┆ …             ┆ …                       ┆ …            │\n",
       "│ 261        ┆ Manhattan     ┆ World Trade Center      ┆ Yellow Zone  │\n",
       "│ 262        ┆ Manhattan     ┆ Yorkville East          ┆ Yellow Zone  │\n",
       "│ 263        ┆ Manhattan     ┆ Yorkville West          ┆ Yellow Zone  │\n",
       "│ 264        ┆ Unknown       ┆ N/A                     ┆ N/A          │\n",
       "│ 265        ┆ N/A           ┆ Outside of NYC          ┆ N/A          │\n",
       "└────────────┴───────────────┴─────────────────────────┴──────────────┘"
      ]
     },
     "execution_count": 3,
     "metadata": {},
     "output_type": "execute_result"
    }
   ],
   "source": [
    "df_taxi_zones = pl.read_csv(\"data/taxi_zone_lookup.csv\")\n",
    "df_taxi_zones"
   ]
  },
  {
   "cell_type": "code",
   "execution_count": 4,
   "id": "15c8d7a5",
   "metadata": {},
   "outputs": [
    {
     "data": {
      "text/html": [
       "<div><style>\n",
       ".dataframe > thead > tr,\n",
       ".dataframe > tbody > tr {\n",
       "  text-align: right;\n",
       "  white-space: pre-wrap;\n",
       "}\n",
       "</style>\n",
       "<small>shape: (1, 22)</small><table border=\"1\" class=\"dataframe\"><thead><tr><th>passenger_count_min</th><th>passenger_count_max</th><th>trip_distance_min</th><th>trip_distance_max</th><th>fare_amount_min</th><th>fare_amount_max</th><th>extra_min</th><th>extra_max</th><th>mta_tax_min</th><th>mta_tax_max</th><th>tip_amount_min</th><th>tip_amount_max</th><th>tolls_amount_min</th><th>tolls_amount_max</th><th>improvement_surcharge_min</th><th>improvement_surcharge_max</th><th>total_amount_min</th><th>total_amount_max</th><th>congestion_surcharge_min</th><th>congestion_surcharge_max</th><th>Airport_fee_min</th><th>Airport_fee_max</th></tr><tr><td>u8</td><td>u8</td><td>f64</td><td>f64</td><td>f64</td><td>f64</td><td>f64</td><td>f64</td><td>f64</td><td>f64</td><td>f64</td><td>f64</td><td>f64</td><td>f64</td><td>f64</td><td>f64</td><td>f64</td><td>f64</td><td>f64</td><td>f64</td><td>f64</td><td>f64</td></tr></thead><tbody><tr><td>1</td><td>6</td><td>0.0</td><td>134298.4</td><td>0.0</td><td>999.0</td><td>0.0</td><td>14.25</td><td>0.0</td><td>35.84</td><td>0.0</td><td>598.58</td><td>0.0</td><td>528.56</td><td>0.0</td><td>1.0</td><td>0.0</td><td>1000.0</td><td>0.0</td><td>2.5</td><td>0.0</td><td>1.75</td></tr></tbody></table></div>"
      ],
      "text/plain": [
       "shape: (1, 22)\n",
       "┌───────────┬───────────┬───────────┬───────────┬───┬───────────┬───────────┬───────────┬──────────┐\n",
       "│ passenger ┆ passenger ┆ trip_dist ┆ trip_dist ┆ … ┆ congestio ┆ congestio ┆ Airport_f ┆ Airport_ │\n",
       "│ _count_mi ┆ _count_ma ┆ ance_min  ┆ ance_max  ┆   ┆ n_surchar ┆ n_surchar ┆ ee_min    ┆ fee_max  │\n",
       "│ n         ┆ x         ┆ ---       ┆ ---       ┆   ┆ ge_min    ┆ ge_max    ┆ ---       ┆ ---      │\n",
       "│ ---       ┆ ---       ┆ f64       ┆ f64       ┆   ┆ ---       ┆ ---       ┆ f64       ┆ f64      │\n",
       "│ u8        ┆ u8        ┆           ┆           ┆   ┆ f64       ┆ f64       ┆           ┆          │\n",
       "╞═══════════╪═══════════╪═══════════╪═══════════╪═══╪═══════════╪═══════════╪═══════════╪══════════╡\n",
       "│ 1         ┆ 6         ┆ 0.0       ┆ 134298.4  ┆ … ┆ 0.0       ┆ 2.5       ┆ 0.0       ┆ 1.75     │\n",
       "└───────────┴───────────┴───────────┴───────────┴───┴───────────┴───────────┴───────────┴──────────┘"
      ]
     },
     "execution_count": 4,
     "metadata": {},
     "output_type": "execute_result"
    }
   ],
   "source": [
    "result = df.select(\n",
    "    [\n",
    "        pl.col(\"passenger_count\").min().alias(\"passenger_count_min\"),\n",
    "        pl.col(\"passenger_count\").max().alias(\"passenger_count_max\"),\n",
    "        pl.col(\"trip_distance\").min().alias(\"trip_distance_min\"),\n",
    "        pl.col(\"trip_distance\").max().alias(\"trip_distance_max\"),\n",
    "        pl.col(\"fare_amount\").min().alias(\"fare_amount_min\"),\n",
    "        pl.col(\"fare_amount\").max().alias(\"fare_amount_max\"),\n",
    "        pl.col(\"extra\").min().alias(\"extra_min\"),\n",
    "        pl.col(\"extra\").max().alias(\"extra_max\"),\n",
    "        pl.col(\"mta_tax\").min().alias(\"mta_tax_min\"),\n",
    "        pl.col(\"mta_tax\").max().alias(\"mta_tax_max\"),\n",
    "        pl.col(\"tip_amount\").min().alias(\"tip_amount_min\"),\n",
    "        pl.col(\"tip_amount\").max().alias(\"tip_amount_max\"),\n",
    "        pl.col(\"tolls_amount\").min().alias(\"tolls_amount_min\"),\n",
    "        pl.col(\"tolls_amount\").max().alias(\"tolls_amount_max\"),\n",
    "        pl.col(\"improvement_surcharge\").min().alias(\"improvement_surcharge_min\"),\n",
    "        pl.col(\"improvement_surcharge\").max().alias(\"improvement_surcharge_max\"),\n",
    "        pl.col(\"total_amount\").min().alias(\"total_amount_min\"),\n",
    "        pl.col(\"total_amount\").max().alias(\"total_amount_max\"),\n",
    "        pl.col(\"congestion_surcharge\").min().alias(\"congestion_surcharge_min\"),\n",
    "        pl.col(\"congestion_surcharge\").max().alias(\"congestion_surcharge_max\"),\n",
    "        pl.col(\"Airport_fee\").min().alias(\"Airport_fee_min\"),\n",
    "        pl.col(\"Airport_fee\").max().alias(\"Airport_fee_max\"),\n",
    "    ]\n",
    ")\n",
    "\n",
    "result"
   ]
  },
  {
   "cell_type": "code",
   "execution_count": 5,
   "id": "ba128538",
   "metadata": {},
   "outputs": [
    {
     "data": {
      "text/html": [
       "<div><style>\n",
       ".dataframe > thead > tr,\n",
       ".dataframe > tbody > tr {\n",
       "  text-align: right;\n",
       "  white-space: pre-wrap;\n",
       "}\n",
       "</style>\n",
       "<small>shape: (10, 20)</small><table border=\"1\" class=\"dataframe\"><thead><tr><th>VendorID</th><th>tpep_pickup_datetime</th><th>tpep_dropoff_datetime</th><th>passenger_count</th><th>trip_distance</th><th>RatecodeID</th><th>store_and_fwd_flag</th><th>PULocationID</th><th>DOLocationID</th><th>payment_type</th><th>fare_amount</th><th>extra</th><th>mta_tax</th><th>tip_amount</th><th>tolls_amount</th><th>improvement_surcharge</th><th>total_amount</th><th>congestion_surcharge</th><th>Airport_fee</th><th>duration_hours</th></tr><tr><td>cat</td><td>datetime[μs]</td><td>datetime[μs]</td><td>u8</td><td>f32</td><td>cat</td><td>cat</td><td>cat</td><td>cat</td><td>cat</td><td>f32</td><td>f32</td><td>f32</td><td>f32</td><td>f32</td><td>f32</td><td>f32</td><td>f32</td><td>f32</td><td>i64</td></tr></thead><tbody><tr><td>null</td><td>2024-01-01 00:57:55</td><td>2024-01-01 01:17:43</td><td>1</td><td>1.72</td><td>null</td><td>&quot;N&quot;</td><td>null</td><td>null</td><td>&quot;cash&quot;</td><td>17.700001</td><td>1.0</td><td>0.5</td><td>0.0</td><td>0.0</td><td>1.0</td><td>22.700001</td><td>2.5</td><td>0.0</td><td>0</td></tr><tr><td>null</td><td>2024-01-01 00:03:00</td><td>2024-01-01 00:09:36</td><td>1</td><td>1.8</td><td>null</td><td>&quot;N&quot;</td><td>null</td><td>null</td><td>&quot;credit_card&quot;</td><td>10.0</td><td>3.5</td><td>0.5</td><td>3.75</td><td>0.0</td><td>1.0</td><td>18.75</td><td>2.5</td><td>0.0</td><td>0</td></tr><tr><td>null</td><td>2024-01-01 00:17:06</td><td>2024-01-01 00:35:01</td><td>1</td><td>4.7</td><td>null</td><td>&quot;N&quot;</td><td>null</td><td>null</td><td>&quot;credit_card&quot;</td><td>23.299999</td><td>3.5</td><td>0.5</td><td>3.0</td><td>0.0</td><td>1.0</td><td>31.299999</td><td>2.5</td><td>0.0</td><td>0</td></tr><tr><td>null</td><td>2024-01-01 00:36:38</td><td>2024-01-01 00:44:56</td><td>1</td><td>1.4</td><td>null</td><td>&quot;N&quot;</td><td>null</td><td>null</td><td>&quot;credit_card&quot;</td><td>10.0</td><td>3.5</td><td>0.5</td><td>2.0</td><td>0.0</td><td>1.0</td><td>17.0</td><td>2.5</td><td>0.0</td><td>0</td></tr><tr><td>null</td><td>2024-01-01 00:46:51</td><td>2024-01-01 00:52:57</td><td>1</td><td>0.8</td><td>null</td><td>&quot;N&quot;</td><td>null</td><td>null</td><td>&quot;credit_card&quot;</td><td>7.9</td><td>3.5</td><td>0.5</td><td>3.2</td><td>0.0</td><td>1.0</td><td>16.1</td><td>2.5</td><td>0.0</td><td>0</td></tr><tr><td>null</td><td>2024-01-01 00:54:08</td><td>2024-01-01 01:26:31</td><td>1</td><td>4.7</td><td>null</td><td>&quot;N&quot;</td><td>null</td><td>null</td><td>&quot;credit_card&quot;</td><td>29.6</td><td>3.5</td><td>0.5</td><td>6.9</td><td>0.0</td><td>1.0</td><td>41.5</td><td>2.5</td><td>0.0</td><td>0</td></tr><tr><td>null</td><td>2024-01-01 00:49:44</td><td>2024-01-01 01:15:47</td><td>2</td><td>10.82</td><td>null</td><td>&quot;N&quot;</td><td>null</td><td>null</td><td>&quot;credit_card&quot;</td><td>45.700001</td><td>6.0</td><td>0.5</td><td>10.0</td><td>0.0</td><td>1.0</td><td>64.949997</td><td>0.0</td><td>1.75</td><td>0</td></tr><tr><td>null</td><td>2024-01-01 00:26:01</td><td>2024-01-01 00:54:12</td><td>1</td><td>5.44</td><td>null</td><td>&quot;N&quot;</td><td>null</td><td>null</td><td>&quot;cash&quot;</td><td>31.0</td><td>1.0</td><td>0.5</td><td>0.0</td><td>0.0</td><td>1.0</td><td>36.0</td><td>2.5</td><td>0.0</td><td>0</td></tr><tr><td>null</td><td>2024-01-01 00:28:08</td><td>2024-01-01 00:29:16</td><td>1</td><td>0.04</td><td>null</td><td>&quot;N&quot;</td><td>null</td><td>null</td><td>&quot;cash&quot;</td><td>3.0</td><td>1.0</td><td>0.5</td><td>0.0</td><td>0.0</td><td>1.0</td><td>8.0</td><td>2.5</td><td>0.0</td><td>0</td></tr><tr><td>null</td><td>2024-01-01 00:35:22</td><td>2024-01-01 00:41:41</td><td>2</td><td>0.75</td><td>null</td><td>&quot;N&quot;</td><td>null</td><td>null</td><td>&quot;credit_card&quot;</td><td>7.9</td><td>1.0</td><td>0.5</td><td>0.0</td><td>0.0</td><td>1.0</td><td>12.9</td><td>2.5</td><td>0.0</td><td>0</td></tr></tbody></table></div>"
      ],
      "text/plain": [
       "shape: (10, 20)\n",
       "┌──────────┬───────────┬───────────┬───────────┬───┬───────────┬───────────┬───────────┬───────────┐\n",
       "│ VendorID ┆ tpep_pick ┆ tpep_drop ┆ passenger ┆ … ┆ total_amo ┆ congestio ┆ Airport_f ┆ duration_ │\n",
       "│ ---      ┆ up_dateti ┆ off_datet ┆ _count    ┆   ┆ unt       ┆ n_surchar ┆ ee        ┆ hours     │\n",
       "│ cat      ┆ me        ┆ ime       ┆ ---       ┆   ┆ ---       ┆ ge        ┆ ---       ┆ ---       │\n",
       "│          ┆ ---       ┆ ---       ┆ u8        ┆   ┆ f32       ┆ ---       ┆ f32       ┆ i64       │\n",
       "│          ┆ datetime[ ┆ datetime[ ┆           ┆   ┆           ┆ f32       ┆           ┆           │\n",
       "│          ┆ μs]       ┆ μs]       ┆           ┆   ┆           ┆           ┆           ┆           │\n",
       "╞══════════╪═══════════╪═══════════╪═══════════╪═══╪═══════════╪═══════════╪═══════════╪═══════════╡\n",
       "│ null     ┆ 2024-01-0 ┆ 2024-01-0 ┆ 1         ┆ … ┆ 22.700001 ┆ 2.5       ┆ 0.0       ┆ 0         │\n",
       "│          ┆ 1         ┆ 1         ┆           ┆   ┆           ┆           ┆           ┆           │\n",
       "│          ┆ 00:57:55  ┆ 01:17:43  ┆           ┆   ┆           ┆           ┆           ┆           │\n",
       "│ null     ┆ 2024-01-0 ┆ 2024-01-0 ┆ 1         ┆ … ┆ 18.75     ┆ 2.5       ┆ 0.0       ┆ 0         │\n",
       "│          ┆ 1         ┆ 1         ┆           ┆   ┆           ┆           ┆           ┆           │\n",
       "│          ┆ 00:03:00  ┆ 00:09:36  ┆           ┆   ┆           ┆           ┆           ┆           │\n",
       "│ null     ┆ 2024-01-0 ┆ 2024-01-0 ┆ 1         ┆ … ┆ 31.299999 ┆ 2.5       ┆ 0.0       ┆ 0         │\n",
       "│          ┆ 1         ┆ 1         ┆           ┆   ┆           ┆           ┆           ┆           │\n",
       "│          ┆ 00:17:06  ┆ 00:35:01  ┆           ┆   ┆           ┆           ┆           ┆           │\n",
       "│ null     ┆ 2024-01-0 ┆ 2024-01-0 ┆ 1         ┆ … ┆ 17.0      ┆ 2.5       ┆ 0.0       ┆ 0         │\n",
       "│          ┆ 1         ┆ 1         ┆           ┆   ┆           ┆           ┆           ┆           │\n",
       "│          ┆ 00:36:38  ┆ 00:44:56  ┆           ┆   ┆           ┆           ┆           ┆           │\n",
       "│ null     ┆ 2024-01-0 ┆ 2024-01-0 ┆ 1         ┆ … ┆ 16.1      ┆ 2.5       ┆ 0.0       ┆ 0         │\n",
       "│          ┆ 1         ┆ 1         ┆           ┆   ┆           ┆           ┆           ┆           │\n",
       "│          ┆ 00:46:51  ┆ 00:52:57  ┆           ┆   ┆           ┆           ┆           ┆           │\n",
       "│ null     ┆ 2024-01-0 ┆ 2024-01-0 ┆ 1         ┆ … ┆ 41.5      ┆ 2.5       ┆ 0.0       ┆ 0         │\n",
       "│          ┆ 1         ┆ 1         ┆           ┆   ┆           ┆           ┆           ┆           │\n",
       "│          ┆ 00:54:08  ┆ 01:26:31  ┆           ┆   ┆           ┆           ┆           ┆           │\n",
       "│ null     ┆ 2024-01-0 ┆ 2024-01-0 ┆ 2         ┆ … ┆ 64.949997 ┆ 0.0       ┆ 1.75      ┆ 0         │\n",
       "│          ┆ 1         ┆ 1         ┆           ┆   ┆           ┆           ┆           ┆           │\n",
       "│          ┆ 00:49:44  ┆ 01:15:47  ┆           ┆   ┆           ┆           ┆           ┆           │\n",
       "│ null     ┆ 2024-01-0 ┆ 2024-01-0 ┆ 1         ┆ … ┆ 36.0      ┆ 2.5       ┆ 0.0       ┆ 0         │\n",
       "│          ┆ 1         ┆ 1         ┆           ┆   ┆           ┆           ┆           ┆           │\n",
       "│          ┆ 00:26:01  ┆ 00:54:12  ┆           ┆   ┆           ┆           ┆           ┆           │\n",
       "│ null     ┆ 2024-01-0 ┆ 2024-01-0 ┆ 1         ┆ … ┆ 8.0       ┆ 2.5       ┆ 0.0       ┆ 0         │\n",
       "│          ┆ 1         ┆ 1         ┆           ┆   ┆           ┆           ┆           ┆           │\n",
       "│          ┆ 00:28:08  ┆ 00:29:16  ┆           ┆   ┆           ┆           ┆           ┆           │\n",
       "│ null     ┆ 2024-01-0 ┆ 2024-01-0 ┆ 2         ┆ … ┆ 12.9      ┆ 2.5       ┆ 0.0       ┆ 0         │\n",
       "│          ┆ 1         ┆ 1         ┆           ┆   ┆           ┆           ┆           ┆           │\n",
       "│          ┆ 00:35:22  ┆ 00:41:41  ┆           ┆   ┆           ┆           ┆           ┆           │\n",
       "└──────────┴───────────┴───────────┴───────────┴───┴───────────┴───────────┴───────────┴───────────┘"
      ]
     },
     "execution_count": 5,
     "metadata": {},
     "output_type": "execute_result"
    }
   ],
   "source": [
    "df_optimized = df.with_columns(\n",
    "    [\n",
    "        pl.col(\"VendorID\").cast(pl.Categorical),\n",
    "        pl.col(\"RatecodeID\").cast(pl.Categorical),\n",
    "        pl.col(\"store_and_fwd_flag\").cast(pl.Categorical),\n",
    "        pl.col(\"PULocationID\").cast(pl.Categorical),\n",
    "        pl.col(\"DOLocationID\").cast(pl.Categorical),\n",
    "        pl.col(\"payment_type\").cast(pl.Categorical),\n",
    "        pl.col(\"passenger_count\").cast(pl.UInt8),\n",
    "        pl.col(\"trip_distance\").cast(pl.Float32),\n",
    "        pl.col(\"fare_amount\").cast(pl.Float32),\n",
    "        pl.col(\"extra\").cast(pl.Float32),\n",
    "        pl.col(\"mta_tax\").cast(pl.Float32),\n",
    "        pl.col(\"tip_amount\").cast(pl.Float32),\n",
    "        pl.col(\"tolls_amount\").cast(pl.Float32),\n",
    "        pl.col(\"improvement_surcharge\").cast(pl.Float32),\n",
    "        pl.col(\"total_amount\").cast(pl.Float32),\n",
    "        pl.col(\"congestion_surcharge\").cast(pl.Float32),\n",
    "        pl.col(\"Airport_fee\").cast(pl.Float32),\n",
    "    ]\n",
    ")\n",
    "\n",
    "df_optimized.head(10)"
   ]
  },
  {
   "cell_type": "code",
   "execution_count": 6,
   "id": "07ba78e7",
   "metadata": {},
   "outputs": [],
   "source": [
    "df = (\n",
    "    df.join(\n",
    "        df_taxi_zones.select([\"LocationID\", \"Borough\"]),\n",
    "        left_on=\"PULocationID\",\n",
    "        right_on=\"LocationID\",\n",
    "        how=\"left\",\n",
    "    )\n",
    "    .rename({\"Borough\": \"PUBorough\"})\n",
    "    .join(\n",
    "        df_taxi_zones.select([\"LocationID\", \"Borough\"]),\n",
    "        left_on=\"DOLocationID\",\n",
    "        right_on=\"LocationID\",\n",
    "        how=\"left\",\n",
    "    )\n",
    "    .rename({\"Borough\": \"DOBorough\"})\n",
    "    .drop([\"PULocationID\", \"DOLocationID\"])\n",
    "    .with_columns(\n",
    "        [\n",
    "            (pl.col(\"Airport_fee\") > 0).alias(\"is_airport_ride\"),\n",
    "            (\n",
    "                (pl.col(\"tpep_pickup_datetime\").dt.weekday() < 5)\n",
    "                & (\n",
    "                    pl.col(\"tpep_pickup_datetime\")\n",
    "                    .dt.time()\n",
    "                    .is_between(time(6, 30), time(9, 30))\n",
    "                    | pl.col(\"tpep_pickup_datetime\")\n",
    "                    .dt.time()\n",
    "                    .is_between(time(15, 30), time(20, 0))\n",
    "                )\n",
    "            ).alias(\"is_rush_hour\"),\n",
    "        ]\n",
    "    )\n",
    ")"
   ]
  },
  {
   "cell_type": "markdown",
   "id": "f42b36a8",
   "metadata": {},
   "source": [
    "## 4. Data transformation\n"
   ]
  },
  {
   "cell_type": "code",
   "execution_count": 7,
   "id": "424827e3",
   "metadata": {},
   "outputs": [],
   "source": [
    "df = (\n",
    "    df.to_dummies(columns=[\"payment_type\"], separator=\"_\")\n",
    "    .to_dummies(columns=[\"Borough_pickup\"], separator=\"_\")\n",
    "    .to_dummies(columns=[\"Borough_dropoff\"], separator=\"_\")\n",
    ")"
   ]
  },
  {
   "cell_type": "code",
   "execution_count": 8,
   "id": "88298195",
   "metadata": {},
   "outputs": [],
   "source": [
    "date_partition = pl.col(\"tpep_pickup_datetime\").dt.date()\n",
    "\n",
    "df = df.with_columns(\n",
    "    [\n",
    "        pl.len().over(date_partition).alias(\"total_rides\"),\n",
    "        pl.col(\"is_airport_ride\").sum().over(date_partition).alias(\"airport_rides\"),\n",
    "        pl.col(\"is_rush_hour\").sum().over(date_partition).alias(\"rush_hour_rides\"),\n",
    "        \n",
    "        pl.col(\"fare_amount\").mean().over(date_partition).alias(\"daily_avg_fare\"),\n",
    "        pl.col(\"trip_distance\").median().over(date_partition).alias(\"daily_median_distance\"),\n",
    "        pl.col(\"total_amount\").sum().over(date_partition).alias(\"daily_sum_total_amount\"),\n",
    "        pl.col(\"congestion_surcharge\").sum().over(date_partition).alias(\"daily_total_congestion_surcharge\"),\n",
    "        pl.col(\"passenger_count\").sum().over(date_partition).alias(\"daily_total_passengers\"),\n",
    "        \n",
    "        (pl.col(\"payment_type_credit_card\") * pl.col(\"total_amount\"))\n",
    "            .sum()\n",
    "            .over(date_partition)\n",
    "            .alias(\"daily_amount_credit_card\"),\n",
    "        \n",
    "        (pl.col(\"payment_type_cash\") * pl.col(\"total_amount\"))\n",
    "            .sum()\n",
    "            .over(date_partition)\n",
    "            .alias(\"daily_amount_cash\"),\n",
    "        \n",
    "        (pl.col(\"payment_type_other\") * pl.col(\"total_amount\"))\n",
    "            .sum()\n",
    "            .over(date_partition)\n",
    "            .alias(\"daily_amount_other\"),\n",
    "    ]\n",
    ")"
   ]
  },
  {
   "cell_type": "code",
   "execution_count": 9,
   "id": "516d1cfe",
   "metadata": {},
   "outputs": [],
   "source": [
    "df = df.with_columns(\n",
    "    [\n",
    "        pl.col(\"tpep_pickup_datetime\").dt.quarter().alias(\"quarter\"),\n",
    "        pl.col(\"tpep_pickup_datetime\").dt.month().alias(\"month\"),\n",
    "        pl.col(\"tpep_pickup_datetime\").dt.day().alias(\"day_of_month\"),\n",
    "        pl.col(\"tpep_pickup_datetime\").dt.weekday().alias(\"day_of_week\"),\n",
    "        (pl.col(\"tpep_pickup_datetime\").dt.weekday() >= 5).alias(\"is_weekend\"),\n",
    "    ]\n",
    ")"
   ]
  },
  {
   "cell_type": "code",
   "execution_count": 10,
   "id": "d9ba1976",
   "metadata": {},
   "outputs": [],
   "source": [
    "df = df.with_columns(\n",
    "    pl.col(\"tpep_pickup_datetime\").dt.date().alias(\"date\")\n",
    ")"
   ]
  },
  {
   "cell_type": "code",
   "execution_count": 11,
   "id": "953e8352",
   "metadata": {},
   "outputs": [],
   "source": [
    "df = df.rename({\n",
    "    \"VendorID\": \"vendor_id\",\n",
    "    \"RatecodeID\": \"rate_code_id\",\n",
    "    \"Airport_fee\": \"airport_fee\",\n",
    "    \"PUBorough\": \"pickup_borough\",\n",
    "    \"DOBorough\": \"dropoff_borough\",\n",
    "    \n",
    "    \"total_rides\": \"daily_total_rides\",\n",
    "    \"airport_rides\": \"daily_airport_rides\",\n",
    "    \"rush_hour_rides\": \"daily_rush_hour_rides\",\n",
    "    \n",
    "    \"payment_type_credit_card\": \"is_payment_credit_card\",\n",
    "    \"payment_type_cash\": \"is_payment_cash\",\n",
    "    \"payment_type_other\": \"is_payment_other\",\n",
    "})"
   ]
  },
  {
   "cell_type": "code",
   "execution_count": 12,
   "id": "17a8b4d7",
   "metadata": {},
   "outputs": [],
   "source": [
    "df.write_parquet(\"dataset.parquet\")"
   ]
  },
  {
   "cell_type": "markdown",
   "id": "e9ba7504",
   "metadata": {},
   "source": [
    "## 5. Data analysis\n"
   ]
  },
  {
   "cell_type": "code",
   "execution_count": 13,
   "id": "5537263b",
   "metadata": {},
   "outputs": [
    {
     "data": {
      "text/plain": [
       "(15031804, 41)"
      ]
     },
     "execution_count": 13,
     "metadata": {},
     "output_type": "execute_result"
    }
   ],
   "source": [
    "df.shape"
   ]
  },
  {
   "cell_type": "code",
   "execution_count": 14,
   "id": "f4b8a3b4",
   "metadata": {},
   "outputs": [
    {
     "data": {
      "text/html": [
       "<div><style>\n",
       ".dataframe > thead > tr,\n",
       ".dataframe > tbody > tr {\n",
       "  text-align: right;\n",
       "  white-space: pre-wrap;\n",
       "}\n",
       "</style>\n",
       "<small>shape: (10, 41)</small><table border=\"1\" class=\"dataframe\"><thead><tr><th>vendor_id</th><th>tpep_pickup_datetime</th><th>tpep_dropoff_datetime</th><th>passenger_count</th><th>trip_distance</th><th>rate_code_id</th><th>store_and_fwd_flag</th><th>is_payment_cash</th><th>is_payment_credit_card</th><th>is_payment_other</th><th>fare_amount</th><th>extra</th><th>mta_tax</th><th>tip_amount</th><th>tolls_amount</th><th>improvement_surcharge</th><th>total_amount</th><th>congestion_surcharge</th><th>airport_fee</th><th>duration_hours</th><th>pickup_borough</th><th>dropoff_borough</th><th>is_airport_ride</th><th>is_rush_hour</th><th>daily_total_rides</th><th>daily_airport_rides</th><th>daily_rush_hour_rides</th><th>daily_avg_fare</th><th>daily_median_distance</th><th>daily_sum_total_amount</th><th>daily_total_congestion_surcharge</th><th>daily_total_passengers</th><th>daily_amount_credit_card</th><th>daily_amount_cash</th><th>daily_amount_other</th><th>quarter</th><th>month</th><th>day_of_month</th><th>day_of_week</th><th>is_weekend</th><th>date</th></tr><tr><td>i32</td><td>datetime[μs]</td><td>datetime[μs]</td><td>u8</td><td>f64</td><td>i64</td><td>str</td><td>u8</td><td>u8</td><td>u8</td><td>f64</td><td>f64</td><td>f64</td><td>f64</td><td>f64</td><td>f64</td><td>f64</td><td>f64</td><td>f64</td><td>i64</td><td>str</td><td>str</td><td>bool</td><td>bool</td><td>u32</td><td>u32</td><td>u32</td><td>f64</td><td>f64</td><td>f64</td><td>f64</td><td>i64</td><td>f64</td><td>f64</td><td>f64</td><td>i8</td><td>i8</td><td>i8</td><td>i8</td><td>bool</td><td>date</td></tr></thead><tbody><tr><td>2</td><td>2024-01-01 00:57:55</td><td>2024-01-01 01:17:43</td><td>1</td><td>1.72</td><td>1</td><td>&quot;N&quot;</td><td>1</td><td>0</td><td>0</td><td>17.7</td><td>1.0</td><td>0.5</td><td>0.0</td><td>0.0</td><td>1.0</td><td>22.7</td><td>2.5</td><td>0.0</td><td>0</td><td>&quot;Manhattan&quot;</td><td>&quot;Manhattan&quot;</td><td>false</td><td>false</td><td>69670</td><td>8353</td><td>19398</td><td>22.219974</td><td>2.09</td><td>2.1853e6</td><td>156130.75</td><td>109145</td><td>1.7447e6</td><td>384743.61</td><td>55778.86</td><td>1</td><td>1</td><td>1</td><td>1</td><td>false</td><td>2024-01-01</td></tr><tr><td>1</td><td>2024-01-01 00:03:00</td><td>2024-01-01 00:09:36</td><td>1</td><td>1.8</td><td>1</td><td>&quot;N&quot;</td><td>0</td><td>1</td><td>0</td><td>10.0</td><td>3.5</td><td>0.5</td><td>3.75</td><td>0.0</td><td>1.0</td><td>18.75</td><td>2.5</td><td>0.0</td><td>0</td><td>&quot;Manhattan&quot;</td><td>&quot;Manhattan&quot;</td><td>false</td><td>false</td><td>69670</td><td>8353</td><td>19398</td><td>22.219974</td><td>2.09</td><td>2.1853e6</td><td>156130.75</td><td>109145</td><td>1.7447e6</td><td>384743.61</td><td>55778.86</td><td>1</td><td>1</td><td>1</td><td>1</td><td>false</td><td>2024-01-01</td></tr><tr><td>1</td><td>2024-01-01 00:17:06</td><td>2024-01-01 00:35:01</td><td>1</td><td>4.7</td><td>1</td><td>&quot;N&quot;</td><td>0</td><td>1</td><td>0</td><td>23.3</td><td>3.5</td><td>0.5</td><td>3.0</td><td>0.0</td><td>1.0</td><td>31.3</td><td>2.5</td><td>0.0</td><td>0</td><td>&quot;Manhattan&quot;</td><td>&quot;Manhattan&quot;</td><td>false</td><td>false</td><td>69670</td><td>8353</td><td>19398</td><td>22.219974</td><td>2.09</td><td>2.1853e6</td><td>156130.75</td><td>109145</td><td>1.7447e6</td><td>384743.61</td><td>55778.86</td><td>1</td><td>1</td><td>1</td><td>1</td><td>false</td><td>2024-01-01</td></tr><tr><td>1</td><td>2024-01-01 00:36:38</td><td>2024-01-01 00:44:56</td><td>1</td><td>1.4</td><td>1</td><td>&quot;N&quot;</td><td>0</td><td>1</td><td>0</td><td>10.0</td><td>3.5</td><td>0.5</td><td>2.0</td><td>0.0</td><td>1.0</td><td>17.0</td><td>2.5</td><td>0.0</td><td>0</td><td>&quot;Manhattan&quot;</td><td>&quot;Manhattan&quot;</td><td>false</td><td>false</td><td>69670</td><td>8353</td><td>19398</td><td>22.219974</td><td>2.09</td><td>2.1853e6</td><td>156130.75</td><td>109145</td><td>1.7447e6</td><td>384743.61</td><td>55778.86</td><td>1</td><td>1</td><td>1</td><td>1</td><td>false</td><td>2024-01-01</td></tr><tr><td>1</td><td>2024-01-01 00:46:51</td><td>2024-01-01 00:52:57</td><td>1</td><td>0.8</td><td>1</td><td>&quot;N&quot;</td><td>0</td><td>1</td><td>0</td><td>7.9</td><td>3.5</td><td>0.5</td><td>3.2</td><td>0.0</td><td>1.0</td><td>16.1</td><td>2.5</td><td>0.0</td><td>0</td><td>&quot;Manhattan&quot;</td><td>&quot;Manhattan&quot;</td><td>false</td><td>false</td><td>69670</td><td>8353</td><td>19398</td><td>22.219974</td><td>2.09</td><td>2.1853e6</td><td>156130.75</td><td>109145</td><td>1.7447e6</td><td>384743.61</td><td>55778.86</td><td>1</td><td>1</td><td>1</td><td>1</td><td>false</td><td>2024-01-01</td></tr><tr><td>1</td><td>2024-01-01 00:54:08</td><td>2024-01-01 01:26:31</td><td>1</td><td>4.7</td><td>1</td><td>&quot;N&quot;</td><td>0</td><td>1</td><td>0</td><td>29.6</td><td>3.5</td><td>0.5</td><td>6.9</td><td>0.0</td><td>1.0</td><td>41.5</td><td>2.5</td><td>0.0</td><td>0</td><td>&quot;Manhattan&quot;</td><td>&quot;Manhattan&quot;</td><td>false</td><td>false</td><td>69670</td><td>8353</td><td>19398</td><td>22.219974</td><td>2.09</td><td>2.1853e6</td><td>156130.75</td><td>109145</td><td>1.7447e6</td><td>384743.61</td><td>55778.86</td><td>1</td><td>1</td><td>1</td><td>1</td><td>false</td><td>2024-01-01</td></tr><tr><td>2</td><td>2024-01-01 00:49:44</td><td>2024-01-01 01:15:47</td><td>2</td><td>10.82</td><td>1</td><td>&quot;N&quot;</td><td>0</td><td>1</td><td>0</td><td>45.7</td><td>6.0</td><td>0.5</td><td>10.0</td><td>0.0</td><td>1.0</td><td>64.95</td><td>0.0</td><td>1.75</td><td>0</td><td>&quot;Queens&quot;</td><td>&quot;Brooklyn&quot;</td><td>true</td><td>false</td><td>69670</td><td>8353</td><td>19398</td><td>22.219974</td><td>2.09</td><td>2.1853e6</td><td>156130.75</td><td>109145</td><td>1.7447e6</td><td>384743.61</td><td>55778.86</td><td>1</td><td>1</td><td>1</td><td>1</td><td>false</td><td>2024-01-01</td></tr><tr><td>2</td><td>2024-01-01 00:26:01</td><td>2024-01-01 00:54:12</td><td>1</td><td>5.44</td><td>1</td><td>&quot;N&quot;</td><td>1</td><td>0</td><td>0</td><td>31.0</td><td>1.0</td><td>0.5</td><td>0.0</td><td>0.0</td><td>1.0</td><td>36.0</td><td>2.5</td><td>0.0</td><td>0</td><td>&quot;Manhattan&quot;</td><td>&quot;Manhattan&quot;</td><td>false</td><td>false</td><td>69670</td><td>8353</td><td>19398</td><td>22.219974</td><td>2.09</td><td>2.1853e6</td><td>156130.75</td><td>109145</td><td>1.7447e6</td><td>384743.61</td><td>55778.86</td><td>1</td><td>1</td><td>1</td><td>1</td><td>false</td><td>2024-01-01</td></tr><tr><td>2</td><td>2024-01-01 00:28:08</td><td>2024-01-01 00:29:16</td><td>1</td><td>0.04</td><td>1</td><td>&quot;N&quot;</td><td>1</td><td>0</td><td>0</td><td>3.0</td><td>1.0</td><td>0.5</td><td>0.0</td><td>0.0</td><td>1.0</td><td>8.0</td><td>2.5</td><td>0.0</td><td>0</td><td>&quot;Manhattan&quot;</td><td>&quot;Manhattan&quot;</td><td>false</td><td>false</td><td>69670</td><td>8353</td><td>19398</td><td>22.219974</td><td>2.09</td><td>2.1853e6</td><td>156130.75</td><td>109145</td><td>1.7447e6</td><td>384743.61</td><td>55778.86</td><td>1</td><td>1</td><td>1</td><td>1</td><td>false</td><td>2024-01-01</td></tr><tr><td>2</td><td>2024-01-01 00:35:22</td><td>2024-01-01 00:41:41</td><td>2</td><td>0.75</td><td>1</td><td>&quot;N&quot;</td><td>0</td><td>1</td><td>0</td><td>7.9</td><td>1.0</td><td>0.5</td><td>0.0</td><td>0.0</td><td>1.0</td><td>12.9</td><td>2.5</td><td>0.0</td><td>0</td><td>&quot;Manhattan&quot;</td><td>&quot;Manhattan&quot;</td><td>false</td><td>false</td><td>69670</td><td>8353</td><td>19398</td><td>22.219974</td><td>2.09</td><td>2.1853e6</td><td>156130.75</td><td>109145</td><td>1.7447e6</td><td>384743.61</td><td>55778.86</td><td>1</td><td>1</td><td>1</td><td>1</td><td>false</td><td>2024-01-01</td></tr></tbody></table></div>"
      ],
      "text/plain": [
       "shape: (10, 41)\n",
       "┌───────────┬───────────┬───────────┬───────────┬───┬───────────┬───────────┬───────────┬──────────┐\n",
       "│ vendor_id ┆ tpep_pick ┆ tpep_drop ┆ passenger ┆ … ┆ day_of_mo ┆ day_of_we ┆ is_weeken ┆ date     │\n",
       "│ ---       ┆ up_dateti ┆ off_datet ┆ _count    ┆   ┆ nth       ┆ ek        ┆ d         ┆ ---      │\n",
       "│ i32       ┆ me        ┆ ime       ┆ ---       ┆   ┆ ---       ┆ ---       ┆ ---       ┆ date     │\n",
       "│           ┆ ---       ┆ ---       ┆ u8        ┆   ┆ i8        ┆ i8        ┆ bool      ┆          │\n",
       "│           ┆ datetime[ ┆ datetime[ ┆           ┆   ┆           ┆           ┆           ┆          │\n",
       "│           ┆ μs]       ┆ μs]       ┆           ┆   ┆           ┆           ┆           ┆          │\n",
       "╞═══════════╪═══════════╪═══════════╪═══════════╪═══╪═══════════╪═══════════╪═══════════╪══════════╡\n",
       "│ 2         ┆ 2024-01-0 ┆ 2024-01-0 ┆ 1         ┆ … ┆ 1         ┆ 1         ┆ false     ┆ 2024-01- │\n",
       "│           ┆ 1         ┆ 1         ┆           ┆   ┆           ┆           ┆           ┆ 01       │\n",
       "│           ┆ 00:57:55  ┆ 01:17:43  ┆           ┆   ┆           ┆           ┆           ┆          │\n",
       "│ 1         ┆ 2024-01-0 ┆ 2024-01-0 ┆ 1         ┆ … ┆ 1         ┆ 1         ┆ false     ┆ 2024-01- │\n",
       "│           ┆ 1         ┆ 1         ┆           ┆   ┆           ┆           ┆           ┆ 01       │\n",
       "│           ┆ 00:03:00  ┆ 00:09:36  ┆           ┆   ┆           ┆           ┆           ┆          │\n",
       "│ 1         ┆ 2024-01-0 ┆ 2024-01-0 ┆ 1         ┆ … ┆ 1         ┆ 1         ┆ false     ┆ 2024-01- │\n",
       "│           ┆ 1         ┆ 1         ┆           ┆   ┆           ┆           ┆           ┆ 01       │\n",
       "│           ┆ 00:17:06  ┆ 00:35:01  ┆           ┆   ┆           ┆           ┆           ┆          │\n",
       "│ 1         ┆ 2024-01-0 ┆ 2024-01-0 ┆ 1         ┆ … ┆ 1         ┆ 1         ┆ false     ┆ 2024-01- │\n",
       "│           ┆ 1         ┆ 1         ┆           ┆   ┆           ┆           ┆           ┆ 01       │\n",
       "│           ┆ 00:36:38  ┆ 00:44:56  ┆           ┆   ┆           ┆           ┆           ┆          │\n",
       "│ 1         ┆ 2024-01-0 ┆ 2024-01-0 ┆ 1         ┆ … ┆ 1         ┆ 1         ┆ false     ┆ 2024-01- │\n",
       "│           ┆ 1         ┆ 1         ┆           ┆   ┆           ┆           ┆           ┆ 01       │\n",
       "│           ┆ 00:46:51  ┆ 00:52:57  ┆           ┆   ┆           ┆           ┆           ┆          │\n",
       "│ 1         ┆ 2024-01-0 ┆ 2024-01-0 ┆ 1         ┆ … ┆ 1         ┆ 1         ┆ false     ┆ 2024-01- │\n",
       "│           ┆ 1         ┆ 1         ┆           ┆   ┆           ┆           ┆           ┆ 01       │\n",
       "│           ┆ 00:54:08  ┆ 01:26:31  ┆           ┆   ┆           ┆           ┆           ┆          │\n",
       "│ 2         ┆ 2024-01-0 ┆ 2024-01-0 ┆ 2         ┆ … ┆ 1         ┆ 1         ┆ false     ┆ 2024-01- │\n",
       "│           ┆ 1         ┆ 1         ┆           ┆   ┆           ┆           ┆           ┆ 01       │\n",
       "│           ┆ 00:49:44  ┆ 01:15:47  ┆           ┆   ┆           ┆           ┆           ┆          │\n",
       "│ 2         ┆ 2024-01-0 ┆ 2024-01-0 ┆ 1         ┆ … ┆ 1         ┆ 1         ┆ false     ┆ 2024-01- │\n",
       "│           ┆ 1         ┆ 1         ┆           ┆   ┆           ┆           ┆           ┆ 01       │\n",
       "│           ┆ 00:26:01  ┆ 00:54:12  ┆           ┆   ┆           ┆           ┆           ┆          │\n",
       "│ 2         ┆ 2024-01-0 ┆ 2024-01-0 ┆ 1         ┆ … ┆ 1         ┆ 1         ┆ false     ┆ 2024-01- │\n",
       "│           ┆ 1         ┆ 1         ┆           ┆   ┆           ┆           ┆           ┆ 01       │\n",
       "│           ┆ 00:28:08  ┆ 00:29:16  ┆           ┆   ┆           ┆           ┆           ┆          │\n",
       "│ 2         ┆ 2024-01-0 ┆ 2024-01-0 ┆ 2         ┆ … ┆ 1         ┆ 1         ┆ false     ┆ 2024-01- │\n",
       "│           ┆ 1         ┆ 1         ┆           ┆   ┆           ┆           ┆           ┆ 01       │\n",
       "│           ┆ 00:35:22  ┆ 00:41:41  ┆           ┆   ┆           ┆           ┆           ┆          │\n",
       "└───────────┴───────────┴───────────┴───────────┴───┴───────────┴───────────┴───────────┴──────────┘"
      ]
     },
     "execution_count": 14,
     "metadata": {},
     "output_type": "execute_result"
    }
   ],
   "source": [
    "df.head(10)"
   ]
  },
  {
   "cell_type": "code",
   "execution_count": 15,
   "id": "101daf39",
   "metadata": {},
   "outputs": [
    {
     "data": {
      "text/html": [
       "<div><style>\n",
       ".dataframe > thead > tr,\n",
       ".dataframe > tbody > tr {\n",
       "  text-align: right;\n",
       "  white-space: pre-wrap;\n",
       "}\n",
       "</style>\n",
       "<small>shape: (9, 42)</small><table border=\"1\" class=\"dataframe\"><thead><tr><th>statistic</th><th>vendor_id</th><th>tpep_pickup_datetime</th><th>tpep_dropoff_datetime</th><th>passenger_count</th><th>trip_distance</th><th>rate_code_id</th><th>store_and_fwd_flag</th><th>is_payment_cash</th><th>is_payment_credit_card</th><th>is_payment_other</th><th>fare_amount</th><th>extra</th><th>mta_tax</th><th>tip_amount</th><th>tolls_amount</th><th>improvement_surcharge</th><th>total_amount</th><th>congestion_surcharge</th><th>airport_fee</th><th>duration_hours</th><th>pickup_borough</th><th>dropoff_borough</th><th>is_airport_ride</th><th>is_rush_hour</th><th>daily_total_rides</th><th>daily_airport_rides</th><th>daily_rush_hour_rides</th><th>daily_avg_fare</th><th>daily_median_distance</th><th>daily_sum_total_amount</th><th>daily_total_congestion_surcharge</th><th>daily_total_passengers</th><th>daily_amount_credit_card</th><th>daily_amount_cash</th><th>daily_amount_other</th><th>quarter</th><th>month</th><th>day_of_month</th><th>day_of_week</th><th>is_weekend</th><th>date</th></tr><tr><td>str</td><td>f64</td><td>str</td><td>str</td><td>f64</td><td>f64</td><td>f64</td><td>str</td><td>f64</td><td>f64</td><td>f64</td><td>f64</td><td>f64</td><td>f64</td><td>f64</td><td>f64</td><td>f64</td><td>f64</td><td>f64</td><td>f64</td><td>f64</td><td>str</td><td>str</td><td>f64</td><td>f64</td><td>f64</td><td>f64</td><td>f64</td><td>f64</td><td>f64</td><td>f64</td><td>f64</td><td>f64</td><td>f64</td><td>f64</td><td>f64</td><td>f64</td><td>f64</td><td>f64</td><td>f64</td><td>f64</td><td>str</td></tr></thead><tbody><tr><td>&quot;count&quot;</td><td>1.5031804e7</td><td>&quot;15031804&quot;</td><td>&quot;15031804&quot;</td><td>1.5031804e7</td><td>1.5031804e7</td><td>1.5031804e7</td><td>&quot;15031804&quot;</td><td>1.5031804e7</td><td>1.5031804e7</td><td>1.5031804e7</td><td>1.5031804e7</td><td>1.5031804e7</td><td>1.5031804e7</td><td>1.5031804e7</td><td>1.5031804e7</td><td>1.5031804e7</td><td>1.5031804e7</td><td>1.5031804e7</td><td>1.5031804e7</td><td>1.5031804e7</td><td>&quot;15031804&quot;</td><td>&quot;15031804&quot;</td><td>1.5031804e7</td><td>1.5031804e7</td><td>1.5031804e7</td><td>1.5031804e7</td><td>1.5031804e7</td><td>1.5031804e7</td><td>1.5031804e7</td><td>1.5031804e7</td><td>1.5031804e7</td><td>1.5031804e7</td><td>1.5031804e7</td><td>1.5031804e7</td><td>1.5031804e7</td><td>1.5031804e7</td><td>1.5031804e7</td><td>1.5031804e7</td><td>1.5031804e7</td><td>1.5031804e7</td><td>&quot;15031804&quot;</td></tr><tr><td>&quot;null_count&quot;</td><td>0.0</td><td>&quot;0&quot;</td><td>&quot;0&quot;</td><td>0.0</td><td>0.0</td><td>0.0</td><td>&quot;0&quot;</td><td>0.0</td><td>0.0</td><td>0.0</td><td>0.0</td><td>0.0</td><td>0.0</td><td>0.0</td><td>0.0</td><td>0.0</td><td>0.0</td><td>0.0</td><td>0.0</td><td>0.0</td><td>&quot;0&quot;</td><td>&quot;0&quot;</td><td>0.0</td><td>0.0</td><td>0.0</td><td>0.0</td><td>0.0</td><td>0.0</td><td>0.0</td><td>0.0</td><td>0.0</td><td>0.0</td><td>0.0</td><td>0.0</td><td>0.0</td><td>0.0</td><td>0.0</td><td>0.0</td><td>0.0</td><td>0.0</td><td>&quot;0&quot;</td></tr><tr><td>&quot;mean&quot;</td><td>1.766447</td><td>&quot;2024-03-19 08:25:05.707375&quot;</td><td>&quot;2024-03-19 08:41:02.661398&quot;</td><td>1.348059</td><td>3.439205</td><td>2.231482</td><td>null</td><td>0.150962</td><td>0.823953</td><td>0.025085</td><td>19.276472</td><td>1.558672</td><td>0.49449</td><td>3.536788</td><td>0.595002</td><td>0.997299</td><td>28.371717</td><td>2.307701</td><td>0.150105</td><td>0.017012</td><td>null</td><td>null</td><td>0.085774</td><td>0.244878</td><td>100512.332887</td><td>8482.993325</td><td>24812.487857</td><td>19.276472</td><td>1.699656</td><td>2.8508e6</td><td>232162.869643</td><td>135235.246768</td><td>2.4174e6</td><td>369731.380349</td><td>63658.75526</td><td>1.42184</td><td>3.083174</td><td>15.629024</td><td>3.992843</td><td>0.417563</td><td>&quot;2024-03-18 17:33:14.072514&quot;</td></tr><tr><td>&quot;std&quot;</td><td>0.423091</td><td>null</td><td>null</td><td>0.823249</td><td>84.530917</td><td>10.56894</td><td>null</td><td>0.358012</td><td>0.38086</td><td>0.156384</td><td>18.237123</td><td>1.818534</td><td>0.053204</td><td>4.02952</td><td>2.232422</td><td>0.051653</td><td>22.849966</td><td>0.666158</td><td>0.490053</td><td>0.132196</td><td>null</td><td>null</td><td>null</td><td>null</td><td>12102.479721</td><td>1475.233676</td><td>21424.848448</td><td>1.057113</td><td>0.083263</td><td>370403.57965</td><td>29553.2991</td><td>15684.987071</td><td>329578.425426</td><td>41697.797134</td><td>10623.324308</td><td>0.493853</td><td>1.41315</td><td>8.753328</td><td>1.909821</td><td>null</td><td>null</td></tr><tr><td>&quot;min&quot;</td><td>1.0</td><td>&quot;2024-01-01 00:00:00&quot;</td><td>&quot;2024-01-01 00:02:42&quot;</td><td>1.0</td><td>0.0</td><td>1.0</td><td>&quot;N&quot;</td><td>0.0</td><td>0.0</td><td>0.0</td><td>0.0</td><td>0.0</td><td>0.0</td><td>0.0</td><td>0.0</td><td>0.0</td><td>0.0</td><td>0.0</td><td>0.0</td><td>0.0</td><td>&quot;Bronx&quot;</td><td>&quot;Bronx&quot;</td><td>0.0</td><td>0.0</td><td>13.0</td><td>1.0</td><td>0.0</td><td>16.691075</td><td>1.51</td><td>372.07</td><td>30.0</td><td>13.0</td><td>276.87</td><td>95.2</td><td>0.0</td><td>1.0</td><td>1.0</td><td>1.0</td><td>1.0</td><td>0.0</td><td>&quot;2024-01-01&quot;</td></tr><tr><td>&quot;25%&quot;</td><td>2.0</td><td>&quot;2024-02-10 20:22:53&quot;</td><td>&quot;2024-02-10 20:39:25&quot;</td><td>1.0</td><td>1.0</td><td>1.0</td><td>null</td><td>0.0</td><td>1.0</td><td>0.0</td><td>9.3</td><td>0.0</td><td>0.5</td><td>1.0</td><td>0.0</td><td>1.0</td><td>15.7</td><td>2.5</td><td>0.0</td><td>0.0</td><td>null</td><td>null</td><td>null</td><td>null</td><td>92237.0</td><td>7398.0</td><td>0.0</td><td>18.566343</td><td>1.66</td><td>2.5917e6</td><td>210780.0</td><td>123653.0</td><td>2.1994e6</td><td>341953.31</td><td>54853.08</td><td>1.0</td><td>2.0</td><td>8.0</td><td>2.0</td><td>null</td><td>&quot;2024-02-10&quot;</td></tr><tr><td>&quot;50%&quot;</td><td>2.0</td><td>&quot;2024-03-20 02:34:25&quot;</td><td>&quot;2024-03-20 02:47:07&quot;</td><td>1.0</td><td>1.7</td><td>1.0</td><td>null</td><td>0.0</td><td>1.0</td><td>0.0</td><td>13.5</td><td>1.0</td><td>0.5</td><td>2.82</td><td>0.0</td><td>1.0</td><td>20.61</td><td>2.5</td><td>0.0</td><td>0.0</td><td>null</td><td>null</td><td>null</td><td>null</td><td>102360.0</td><td>8629.0</td><td>37203.0</td><td>19.222066</td><td>1.7</td><td>2.8498e6</td><td>236002.5</td><td>135847.0</td><td>2.4256e6</td><td>368435.78</td><td>64302.34</td><td>1.0</td><td>3.0</td><td>16.0</td><td>4.0</td><td>null</td><td>&quot;2024-03-20&quot;</td></tr><tr><td>&quot;75%&quot;</td><td>2.0</td><td>&quot;2024-04-26 08:48:21&quot;</td><td>&quot;2024-04-26 09:04:47&quot;</td><td>1.0</td><td>3.2</td><td>1.0</td><td>null</td><td>0.0</td><td>1.0</td><td>0.0</td><td>21.2</td><td>2.5</td><td>0.5</td><td>4.34</td><td>0.0</td><td>1.0</td><td>29.88</td><td>2.5</td><td>0.0</td><td>0.0</td><td>null</td><td>null</td><td>null</td><td>null</td><td>109995.0</td><td>9519.0</td><td>44168.0</td><td>20.023923</td><td>1.72</td><td>3.0772e6</td><td>255755.0</td><td>146490.0</td><td>2.6230e6</td><td>407435.0</td><td>71477.55</td><td>2.0</td><td>4.0</td><td>23.0</td><td>6.0</td><td>null</td><td>&quot;2024-04-26&quot;</td></tr><tr><td>&quot;max&quot;</td><td>2.0</td><td>&quot;2024-06-01 23:54:14&quot;</td><td>&quot;2024-06-02 00:02:39&quot;</td><td>6.0</td><td>134298.4</td><td>99.0</td><td>&quot;Y&quot;</td><td>1.0</td><td>1.0</td><td>1.0</td><td>999.0</td><td>14.25</td><td>35.84</td><td>598.58</td><td>528.56</td><td>1.0</td><td>1000.0</td><td>2.5</td><td>1.75</td><td>2.0</td><td>&quot;Unknown&quot;</td><td>&quot;Unknown&quot;</td><td>1.0</td><td>1.0</td><td>123666.0</td><td>11914.0</td><td>50888.0</td><td>22.219974</td><td>2.09</td><td>3.7436e6</td><td>286140.0</td><td>169305.0</td><td>3.2219e6</td><td>451228.63</td><td>89857.47</td><td>2.0</td><td>6.0</td><td>31.0</td><td>7.0</td><td>1.0</td><td>&quot;2024-06-01&quot;</td></tr></tbody></table></div>"
      ],
      "text/plain": [
       "shape: (9, 42)\n",
       "┌───────────┬───────────┬───────────┬───────────┬───┬───────────┬───────────┬───────────┬──────────┐\n",
       "│ statistic ┆ vendor_id ┆ tpep_pick ┆ tpep_drop ┆ … ┆ day_of_mo ┆ day_of_we ┆ is_weeken ┆ date     │\n",
       "│ ---       ┆ ---       ┆ up_dateti ┆ off_datet ┆   ┆ nth       ┆ ek        ┆ d         ┆ ---      │\n",
       "│ str       ┆ f64       ┆ me        ┆ ime       ┆   ┆ ---       ┆ ---       ┆ ---       ┆ str      │\n",
       "│           ┆           ┆ ---       ┆ ---       ┆   ┆ f64       ┆ f64       ┆ f64       ┆          │\n",
       "│           ┆           ┆ str       ┆ str       ┆   ┆           ┆           ┆           ┆          │\n",
       "╞═══════════╪═══════════╪═══════════╪═══════════╪═══╪═══════════╪═══════════╪═══════════╪══════════╡\n",
       "│ count     ┆ 1.5031804 ┆ 15031804  ┆ 15031804  ┆ … ┆ 1.5031804 ┆ 1.5031804 ┆ 1.5031804 ┆ 15031804 │\n",
       "│           ┆ e7        ┆           ┆           ┆   ┆ e7        ┆ e7        ┆ e7        ┆          │\n",
       "│ null_coun ┆ 0.0       ┆ 0         ┆ 0         ┆ … ┆ 0.0       ┆ 0.0       ┆ 0.0       ┆ 0        │\n",
       "│ t         ┆           ┆           ┆           ┆   ┆           ┆           ┆           ┆          │\n",
       "│ mean      ┆ 1.766447  ┆ 2024-03-1 ┆ 2024-03-1 ┆ … ┆ 15.629024 ┆ 3.992843  ┆ 0.417563  ┆ 2024-03- │\n",
       "│           ┆           ┆ 9 08:25:0 ┆ 9 08:41:0 ┆   ┆           ┆           ┆           ┆ 18 17:33 │\n",
       "│           ┆           ┆ 5.707375  ┆ 2.661398  ┆   ┆           ┆           ┆           ┆ :14.0725 │\n",
       "│           ┆           ┆           ┆           ┆   ┆           ┆           ┆           ┆ 14       │\n",
       "│ std       ┆ 0.423091  ┆ null      ┆ null      ┆ … ┆ 8.753328  ┆ 1.909821  ┆ null      ┆ null     │\n",
       "│ min       ┆ 1.0       ┆ 2024-01-0 ┆ 2024-01-0 ┆ … ┆ 1.0       ┆ 1.0       ┆ 0.0       ┆ 2024-01- │\n",
       "│           ┆           ┆ 1         ┆ 1         ┆   ┆           ┆           ┆           ┆ 01       │\n",
       "│           ┆           ┆ 00:00:00  ┆ 00:02:42  ┆   ┆           ┆           ┆           ┆          │\n",
       "│ 25%       ┆ 2.0       ┆ 2024-02-1 ┆ 2024-02-1 ┆ … ┆ 8.0       ┆ 2.0       ┆ null      ┆ 2024-02- │\n",
       "│           ┆           ┆ 0         ┆ 0         ┆   ┆           ┆           ┆           ┆ 10       │\n",
       "│           ┆           ┆ 20:22:53  ┆ 20:39:25  ┆   ┆           ┆           ┆           ┆          │\n",
       "│ 50%       ┆ 2.0       ┆ 2024-03-2 ┆ 2024-03-2 ┆ … ┆ 16.0      ┆ 4.0       ┆ null      ┆ 2024-03- │\n",
       "│           ┆           ┆ 0         ┆ 0         ┆   ┆           ┆           ┆           ┆ 20       │\n",
       "│           ┆           ┆ 02:34:25  ┆ 02:47:07  ┆   ┆           ┆           ┆           ┆          │\n",
       "│ 75%       ┆ 2.0       ┆ 2024-04-2 ┆ 2024-04-2 ┆ … ┆ 23.0      ┆ 6.0       ┆ null      ┆ 2024-04- │\n",
       "│           ┆           ┆ 6         ┆ 6         ┆   ┆           ┆           ┆           ┆ 26       │\n",
       "│           ┆           ┆ 08:48:21  ┆ 09:04:47  ┆   ┆           ┆           ┆           ┆          │\n",
       "│ max       ┆ 2.0       ┆ 2024-06-0 ┆ 2024-06-0 ┆ … ┆ 31.0      ┆ 7.0       ┆ 1.0       ┆ 2024-06- │\n",
       "│           ┆           ┆ 1         ┆ 2         ┆   ┆           ┆           ┆           ┆ 01       │\n",
       "│           ┆           ┆ 23:54:14  ┆ 00:02:39  ┆   ┆           ┆           ┆           ┆          │\n",
       "└───────────┴───────────┴───────────┴───────────┴───┴───────────┴───────────┴───────────┴──────────┘"
      ]
     },
     "execution_count": 15,
     "metadata": {},
     "output_type": "execute_result"
    }
   ],
   "source": [
    "df.describe()"
   ]
  },
  {
   "cell_type": "code",
   "execution_count": 16,
   "id": "d922eb73",
   "metadata": {},
   "outputs": [
    {
     "data": {
      "text/plain": [
       "Schema([('vendor_id', Int32),\n",
       "        ('tpep_pickup_datetime', Datetime(time_unit='us', time_zone=None)),\n",
       "        ('tpep_dropoff_datetime', Datetime(time_unit='us', time_zone=None)),\n",
       "        ('passenger_count', UInt8),\n",
       "        ('trip_distance', Float64),\n",
       "        ('rate_code_id', Int64),\n",
       "        ('store_and_fwd_flag', String),\n",
       "        ('is_payment_cash', UInt8),\n",
       "        ('is_payment_credit_card', UInt8),\n",
       "        ('is_payment_other', UInt8),\n",
       "        ('fare_amount', Float64),\n",
       "        ('extra', Float64),\n",
       "        ('mta_tax', Float64),\n",
       "        ('tip_amount', Float64),\n",
       "        ('tolls_amount', Float64),\n",
       "        ('improvement_surcharge', Float64),\n",
       "        ('total_amount', Float64),\n",
       "        ('congestion_surcharge', Float64),\n",
       "        ('airport_fee', Float64),\n",
       "        ('duration_hours', Int64),\n",
       "        ('pickup_borough', String),\n",
       "        ('dropoff_borough', String),\n",
       "        ('is_airport_ride', Boolean),\n",
       "        ('is_rush_hour', Boolean),\n",
       "        ('daily_total_rides', UInt32),\n",
       "        ('daily_airport_rides', UInt32),\n",
       "        ('daily_rush_hour_rides', UInt32),\n",
       "        ('daily_avg_fare', Float64),\n",
       "        ('daily_median_distance', Float64),\n",
       "        ('daily_sum_total_amount', Float64),\n",
       "        ('daily_total_congestion_surcharge', Float64),\n",
       "        ('daily_total_passengers', Int64),\n",
       "        ('daily_amount_credit_card', Float64),\n",
       "        ('daily_amount_cash', Float64),\n",
       "        ('daily_amount_other', Float64),\n",
       "        ('quarter', Int8),\n",
       "        ('month', Int8),\n",
       "        ('day_of_month', Int8),\n",
       "        ('day_of_week', Int8),\n",
       "        ('is_weekend', Boolean),\n",
       "        ('date', Date)])"
      ]
     },
     "execution_count": 16,
     "metadata": {},
     "output_type": "execute_result"
    }
   ],
   "source": [
    "df.schema"
   ]
  },
  {
   "cell_type": "code",
   "execution_count": 17,
   "id": "cec0d4c5",
   "metadata": {},
   "outputs": [],
   "source": [
    "plot_data = df.select([\"date\", \"daily_total_rides\"]).unique(subset=[\"date\"]).sort(\"date\")"
   ]
  },
  {
   "cell_type": "code",
   "execution_count": 18,
   "id": "5f2abd73",
   "metadata": {},
   "outputs": [
    {
     "data": {
      "image/png": "[encoded data removed]",
      "text/plain": [
       "<Figure size 1000x600 with 1 Axes>"
      ]
     },
     "metadata": {},
     "output_type": "display_data"
    }
   ],
   "source": [
    "import matplotlib.pyplot as plt\n",
    "\n",
    "plot_data = plot_data.to_pandas()\n",
    "\n",
    "plt.figure(figsize=(10, 6))\n",
    "plt.hist(plot_data[\"daily_total_rides\"], bins=30)\n",
    "plt.xlabel(\"Daily Total Rides\")\n",
    "plt.ylabel(\"Frequency\")\n",
    "plt.title(\"Distribution of Daily Total Rides\")\n",
    "plt.show()"
   ]
  },
  {
   "cell_type": "code",
   "execution_count": 20,
   "id": "c294176f",
   "metadata": {},
   "outputs": [
    {
     "data": {
      "text/plain": [
       "<Axes: xlabel='date'>"
      ]
     },
     "execution_count": 20,
     "metadata": {},
     "output_type": "execute_result"
    },
    {
     "data": {
      "image/png": "[encoded data removed]",
      "text/plain": [
       "<Figure size 640x480 with 1 Axes>"
      ]
     },
     "metadata": {},
     "output_type": "display_data"
    }
   ],
   "source": [
    "plot_data.plot.line(x=\"date\", y=\"daily_total_rides\")"
   ]
  }
 ],
 "metadata": {
  "kernelspec": {
   "display_name": ".venv",
   "language": "python",
   "name": "python3"
  },
  "language_info": {
   "codemirror_mode": {
    "name": "ipython",
    "version": 3
   },
   "file_extension": ".py",
   "mimetype": "text/x-python",
   "name": "python",
   "nbconvert_exporter": "python",
   "pygments_lexer": "ipython3",
   "version": "3.12.9"
  }
 },
 "nbformat": 4,
 "nbformat_minor": 5
}
